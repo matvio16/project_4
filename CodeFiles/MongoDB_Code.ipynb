{
 "cells": [
  {
   "cell_type": "markdown",
   "id": "664e3c1f",
   "metadata": {},
   "source": [
    "Import the dataset with `mongoimport --type csv -d heart_attack_risk_db  -c heart_attack_data --headerline --drop heart_attack_risk.csv`"
   ]
  },
  {
   "cell_type": "code",
   "execution_count": 1,
   "id": "3ecdd008",
   "metadata": {},
   "outputs": [],
   "source": [
    "# Import dependencies\n",
    "from pymongo import MongoClient\n",
    "from pprint import pprint\n",
    "import pandas as pd\n",
    "\n",
    "# Import MongoClient Key\n",
    "from config import mongo_key"
   ]
  },
  {
   "cell_type": "code",
   "execution_count": 2,
   "id": "59390c4a",
   "metadata": {},
   "outputs": [],
   "source": [
    "# Create an instance of MongoClient\\\n",
    "mongo = MongoClient(mongo_key)"
   ]
  },
  {
   "cell_type": "code",
   "execution_count": 3,
   "id": "7f9ececa",
   "metadata": {},
   "outputs": [
    {
     "name": "stdout",
     "output_type": "stream",
     "text": [
      "['COVID19_DB', 'CitiBike_DB', 'heart_attack_risk_db', 'admin', 'local']\n"
     ]
    }
   ],
   "source": [
    "# Confirm that our new database was created\n",
    "print(mongo.list_database_names())"
   ]
  },
  {
   "cell_type": "code",
   "execution_count": 4,
   "id": "71e373c1",
   "metadata": {},
   "outputs": [],
   "source": [
    "# Assign the database to a variable name\n",
    "db = mongo['heart_attack_risk_db']"
   ]
  },
  {
   "cell_type": "code",
   "execution_count": 5,
   "id": "ef1b89ed",
   "metadata": {},
   "outputs": [
    {
     "name": "stdout",
     "output_type": "stream",
     "text": [
      "['heart_attack_data']\n"
     ]
    }
   ],
   "source": [
    "# Review the collections in our new database\n",
    "print(db.list_collection_names())"
   ]
  },
  {
   "cell_type": "code",
   "execution_count": 6,
   "id": "6a0d92df",
   "metadata": {},
   "outputs": [
    {
     "name": "stdout",
     "output_type": "stream",
     "text": [
      "{'Age': 51,\n",
      " 'Alcohol Consumption': 0,\n",
      " 'BMI': 24.66997133,\n",
      " 'Blood Pressure': '106/106',\n",
      " 'Cholesterol': 197,\n",
      " 'Continent': 'South America',\n",
      " 'Country': 'Argentina',\n",
      " 'Diabetes': 1,\n",
      " 'Diet': 'Unhealthy',\n",
      " 'Exercise Hours Per Week': 14.12351894,\n",
      " 'Family History': 1,\n",
      " 'Heart Attack Risk': 0,\n",
      " 'Heart Rate': 79,\n",
      " 'Hemisphere': 'Southern Hemisphere',\n",
      " 'Income': 257061,\n",
      " 'Medication Use': 0,\n",
      " 'Obesity': 1,\n",
      " 'Patient ID': 'QWD3129',\n",
      " 'Physical Activity Days Per Week': 1,\n",
      " 'Previous Heart Problems': 0,\n",
      " 'Sedentary Hours Per Day': 1.539100041,\n",
      " 'Sex': 'Male',\n",
      " 'Sleep Hours Per Day': 5,\n",
      " 'Smoking': 1,\n",
      " 'Stress Level': 3,\n",
      " 'Triglycerides': 785,\n",
      " '_id': ObjectId('65cebe94cf813089ec40a444')}\n"
     ]
    }
   ],
   "source": [
    "# Review a document in the collection\n",
    "pprint(db.heart_attack_data.find_one())"
   ]
  },
  {
   "cell_type": "code",
   "execution_count": 7,
   "id": "11c9f11b",
   "metadata": {},
   "outputs": [],
   "source": [
    "# Assign the collection to a variable\n",
    "heart_attack_records = db['heart_attack_data']"
   ]
  },
  {
   "cell_type": "code",
   "execution_count": 8,
   "id": "999b8c33",
   "metadata": {},
   "outputs": [],
   "source": [
    "# Retrieve data from the collection\n",
    "data_from_mongo = list(heart_attack_records.find())"
   ]
  },
  {
   "cell_type": "code",
   "execution_count": 9,
   "id": "d3a5e0e4",
   "metadata": {},
   "outputs": [
    {
     "name": "stdout",
     "output_type": "stream",
     "text": [
      "Number of rows: 8763\n"
     ]
    },
    {
     "data": {
      "text/html": [
       "<div>\n",
       "<style scoped>\n",
       "    .dataframe tbody tr th:only-of-type {\n",
       "        vertical-align: middle;\n",
       "    }\n",
       "\n",
       "    .dataframe tbody tr th {\n",
       "        vertical-align: top;\n",
       "    }\n",
       "\n",
       "    .dataframe thead th {\n",
       "        text-align: right;\n",
       "    }\n",
       "</style>\n",
       "<table border=\"1\" class=\"dataframe\">\n",
       "  <thead>\n",
       "    <tr style=\"text-align: right;\">\n",
       "      <th></th>\n",
       "      <th>_id</th>\n",
       "      <th>Patient ID</th>\n",
       "      <th>Age</th>\n",
       "      <th>Sex</th>\n",
       "      <th>Cholesterol</th>\n",
       "      <th>Blood Pressure</th>\n",
       "      <th>Heart Rate</th>\n",
       "      <th>Diabetes</th>\n",
       "      <th>Family History</th>\n",
       "      <th>Smoking</th>\n",
       "      <th>...</th>\n",
       "      <th>Sedentary Hours Per Day</th>\n",
       "      <th>Income</th>\n",
       "      <th>BMI</th>\n",
       "      <th>Triglycerides</th>\n",
       "      <th>Physical Activity Days Per Week</th>\n",
       "      <th>Sleep Hours Per Day</th>\n",
       "      <th>Country</th>\n",
       "      <th>Continent</th>\n",
       "      <th>Hemisphere</th>\n",
       "      <th>Heart Attack Risk</th>\n",
       "    </tr>\n",
       "  </thead>\n",
       "  <tbody>\n",
       "    <tr>\n",
       "      <th>0</th>\n",
       "      <td>65cebe94cf813089ec40a444</td>\n",
       "      <td>QWD3129</td>\n",
       "      <td>51</td>\n",
       "      <td>Male</td>\n",
       "      <td>197</td>\n",
       "      <td>106/106</td>\n",
       "      <td>79</td>\n",
       "      <td>1</td>\n",
       "      <td>1</td>\n",
       "      <td>1</td>\n",
       "      <td>...</td>\n",
       "      <td>1.539100</td>\n",
       "      <td>257061</td>\n",
       "      <td>24.669971</td>\n",
       "      <td>785</td>\n",
       "      <td>1</td>\n",
       "      <td>5</td>\n",
       "      <td>Argentina</td>\n",
       "      <td>South America</td>\n",
       "      <td>Southern Hemisphere</td>\n",
       "      <td>0</td>\n",
       "    </tr>\n",
       "    <tr>\n",
       "      <th>1</th>\n",
       "      <td>65cebe94cf813089ec40a45d</td>\n",
       "      <td>DNY3115</td>\n",
       "      <td>46</td>\n",
       "      <td>Male</td>\n",
       "      <td>333</td>\n",
       "      <td>130/94</td>\n",
       "      <td>63</td>\n",
       "      <td>1</td>\n",
       "      <td>1</td>\n",
       "      <td>1</td>\n",
       "      <td>...</td>\n",
       "      <td>11.037187</td>\n",
       "      <td>128868</td>\n",
       "      <td>23.907091</td>\n",
       "      <td>547</td>\n",
       "      <td>5</td>\n",
       "      <td>10</td>\n",
       "      <td>Spain</td>\n",
       "      <td>Europe</td>\n",
       "      <td>Southern Hemisphere</td>\n",
       "      <td>0</td>\n",
       "    </tr>\n",
       "    <tr>\n",
       "      <th>2</th>\n",
       "      <td>65cebe94cf813089ec40a418</td>\n",
       "      <td>BNI9906</td>\n",
       "      <td>21</td>\n",
       "      <td>Female</td>\n",
       "      <td>324</td>\n",
       "      <td>174/99</td>\n",
       "      <td>72</td>\n",
       "      <td>1</td>\n",
       "      <td>0</td>\n",
       "      <td>0</td>\n",
       "      <td>...</td>\n",
       "      <td>9.463426</td>\n",
       "      <td>235282</td>\n",
       "      <td>28.176571</td>\n",
       "      <td>587</td>\n",
       "      <td>4</td>\n",
       "      <td>4</td>\n",
       "      <td>France</td>\n",
       "      <td>Europe</td>\n",
       "      <td>Northern Hemisphere</td>\n",
       "      <td>0</td>\n",
       "    </tr>\n",
       "    <tr>\n",
       "      <th>3</th>\n",
       "      <td>65cebe94cf813089ec40a41f</td>\n",
       "      <td>FTJ5456</td>\n",
       "      <td>43</td>\n",
       "      <td>Female</td>\n",
       "      <td>248</td>\n",
       "      <td>160/70</td>\n",
       "      <td>55</td>\n",
       "      <td>0</td>\n",
       "      <td>1</td>\n",
       "      <td>1</td>\n",
       "      <td>...</td>\n",
       "      <td>4.055115</td>\n",
       "      <td>209703</td>\n",
       "      <td>22.558917</td>\n",
       "      <td>232</td>\n",
       "      <td>7</td>\n",
       "      <td>7</td>\n",
       "      <td>Japan</td>\n",
       "      <td>Asia</td>\n",
       "      <td>Northern Hemisphere</td>\n",
       "      <td>0</td>\n",
       "    </tr>\n",
       "    <tr>\n",
       "      <th>4</th>\n",
       "      <td>65cebe94cf813089ec40a443</td>\n",
       "      <td>ENZ9640</td>\n",
       "      <td>33</td>\n",
       "      <td>Male</td>\n",
       "      <td>185</td>\n",
       "      <td>120/63</td>\n",
       "      <td>79</td>\n",
       "      <td>0</td>\n",
       "      <td>1</td>\n",
       "      <td>1</td>\n",
       "      <td>...</td>\n",
       "      <td>11.083843</td>\n",
       "      <td>239725</td>\n",
       "      <td>37.209005</td>\n",
       "      <td>675</td>\n",
       "      <td>6</td>\n",
       "      <td>4</td>\n",
       "      <td>Italy</td>\n",
       "      <td>Europe</td>\n",
       "      <td>Southern Hemisphere</td>\n",
       "      <td>1</td>\n",
       "    </tr>\n",
       "  </tbody>\n",
       "</table>\n",
       "<p>5 rows × 27 columns</p>\n",
       "</div>"
      ],
      "text/plain": [
       "                        _id Patient ID  Age     Sex  Cholesterol  \\\n",
       "0  65cebe94cf813089ec40a444    QWD3129   51    Male          197   \n",
       "1  65cebe94cf813089ec40a45d    DNY3115   46    Male          333   \n",
       "2  65cebe94cf813089ec40a418    BNI9906   21  Female          324   \n",
       "3  65cebe94cf813089ec40a41f    FTJ5456   43  Female          248   \n",
       "4  65cebe94cf813089ec40a443    ENZ9640   33    Male          185   \n",
       "\n",
       "  Blood Pressure  Heart Rate  Diabetes  Family History  Smoking  ...  \\\n",
       "0        106/106          79         1               1        1  ...   \n",
       "1         130/94          63         1               1        1  ...   \n",
       "2         174/99          72         1               0        0  ...   \n",
       "3         160/70          55         0               1        1  ...   \n",
       "4         120/63          79         0               1        1  ...   \n",
       "\n",
       "   Sedentary Hours Per Day  Income        BMI Triglycerides  \\\n",
       "0                 1.539100  257061  24.669971           785   \n",
       "1                11.037187  128868  23.907091           547   \n",
       "2                 9.463426  235282  28.176571           587   \n",
       "3                 4.055115  209703  22.558917           232   \n",
       "4                11.083843  239725  37.209005           675   \n",
       "\n",
       "   Physical Activity Days Per Week  Sleep Hours Per Day    Country  \\\n",
       "0                                1                    5  Argentina   \n",
       "1                                5                   10      Spain   \n",
       "2                                4                    4     France   \n",
       "3                                7                    7      Japan   \n",
       "4                                6                    4      Italy   \n",
       "\n",
       "       Continent           Hemisphere  Heart Attack Risk  \n",
       "0  South America  Southern Hemisphere                  0  \n",
       "1         Europe  Southern Hemisphere                  0  \n",
       "2         Europe  Northern Hemisphere                  0  \n",
       "3           Asia  Northern Hemisphere                  0  \n",
       "4         Europe  Southern Hemisphere                  1  \n",
       "\n",
       "[5 rows x 27 columns]"
      ]
     },
     "execution_count": 9,
     "metadata": {},
     "output_type": "execute_result"
    }
   ],
   "source": [
    "# Convert the collection to a Pandas DataFrame\n",
    "heart_attack_df = pd.DataFrame(data_from_mongo)\n",
    "\n",
    "# Display the number of rows in the DataFrame\n",
    "print('Number of rows:', len(heart_attack_df))\n",
    "\n",
    "# Display the DataFrame\n",
    "heart_attack_df.head()"
   ]
  },
  {
   "cell_type": "code",
   "execution_count": 10,
   "id": "4ce6bc73",
   "metadata": {},
   "outputs": [
    {
     "data": {
      "text/plain": [
       "Index(['_id', 'Patient ID', 'Age', 'Sex', 'Cholesterol', 'Blood Pressure',\n",
       "       'Heart Rate', 'Diabetes', 'Family History', 'Smoking', 'Obesity',\n",
       "       'Alcohol Consumption', 'Exercise Hours Per Week', 'Diet',\n",
       "       'Previous Heart Problems', 'Medication Use', 'Stress Level',\n",
       "       'Sedentary Hours Per Day', 'Income', 'BMI', 'Triglycerides',\n",
       "       'Physical Activity Days Per Week', 'Sleep Hours Per Day', 'Country',\n",
       "       'Continent', 'Hemisphere', 'Heart Attack Risk'],\n",
       "      dtype='object')"
      ]
     },
     "execution_count": 10,
     "metadata": {},
     "output_type": "execute_result"
    }
   ],
   "source": [
    "# Confirm all columns are available\n",
    "heart_attack_df.columns"
   ]
  },
  {
   "cell_type": "code",
   "execution_count": 11,
   "id": "b1259a35",
   "metadata": {},
   "outputs": [
    {
     "name": "stdout",
     "output_type": "stream",
     "text": [
      "There are a total of 8763 values\n"
     ]
    },
    {
     "data": {
      "text/plain": [
       "Heart Attack Risk\n",
       "0    5624\n",
       "1    3139\n",
       "Name: count, dtype: int64"
      ]
     },
     "execution_count": 11,
     "metadata": {},
     "output_type": "execute_result"
    }
   ],
   "source": [
    "Count = heart_attack_df['Heart Attack Risk'].count()\n",
    "print(f'There are a total of {Count} values')\n",
    "\n",
    "heart_attack_df['Heart Attack Risk'].value_counts()"
   ]
  },
  {
   "cell_type": "code",
   "execution_count": 12,
   "id": "792653eb",
   "metadata": {},
   "outputs": [],
   "source": [
    "# Drop id column\n",
    "heart_attack_df = heart_attack_df.drop('_id', axis=1)"
   ]
  },
  {
   "cell_type": "code",
   "execution_count": 13,
   "id": "d3b57134",
   "metadata": {},
   "outputs": [
    {
     "name": "stdout",
     "output_type": "stream",
     "text": [
      "['Patient ID',\n",
      " 'Age',\n",
      " 'Sex',\n",
      " 'Cholesterol',\n",
      " 'Blood Pressure',\n",
      " 'Heart Rate',\n",
      " 'Diabetes',\n",
      " 'Family History',\n",
      " 'Smoking',\n",
      " 'Obesity',\n",
      " 'Alcohol Consumption',\n",
      " 'Exercise Hours Per Week',\n",
      " 'Diet',\n",
      " 'Previous Heart Problems',\n",
      " 'Medication Use',\n",
      " 'Stress Level',\n",
      " 'Sedentary Hours Per Day',\n",
      " 'Income',\n",
      " 'BMI',\n",
      " 'Triglycerides',\n",
      " 'Physical Activity Days Per Week',\n",
      " 'Sleep Hours Per Day',\n",
      " 'Country',\n",
      " 'Continent',\n",
      " 'Hemisphere',\n",
      " 'Heart Attack Risk']\n"
     ]
    }
   ],
   "source": [
    "pprint(heart_attack_df.columns.tolist())"
   ]
  },
  {
   "cell_type": "code",
   "execution_count": 23,
   "id": "049246cd",
   "metadata": {},
   "outputs": [],
   "source": [
    "# Save dataframe to csv\n",
    "heart_attack_df.to_csv(\"heart_attack_risk_data.csv\", index=False)"
   ]
  },
  {
   "cell_type": "code",
   "execution_count": 24,
   "id": "111d7448",
   "metadata": {},
   "outputs": [],
   "source": [
    "import csv\n",
    "import json\n",
    "\n",
    "# Convert CSV to JSON for dashboard\n",
    "csvfile = open('heart_attack_risk_data.csv', 'r')\n",
    "jsonfile = open('heart_attack_risk.json', 'w')\n",
    "\n",
    "fieldnames = [\n",
    "    'Patient ID', 'Age', 'Sex', 'Cholesterol', 'Blood Pressure',\n",
    "    'Heart Rate', 'Diabetes', 'Family History', 'Smoking', 'Obesity',\n",
    "    'Alcohol Consumption', 'Exercise Hours Per Week', 'Diet',\n",
    "    'Previous Heart Problems', 'Medication Use', 'Stress Level',\n",
    "    'Sedentary Hours Per Day', 'Income', 'BMI', 'Triglycerides',\n",
    "    'Physical Activity Days Per Week', 'Sleep Hours Per Day', 'Country',\n",
    "    'Continent', 'Hemisphere', 'Heart Attack Risk'\n",
    "]\n",
    "\n",
    "reader = csv.DictReader(csvfile, fieldnames)\n",
    "\n",
    "# Create a list to hold the rows\n",
    "data = []\n",
    "\n",
    "# Skip the first row (header)\n",
    "next(reader)\n",
    "\n",
    "for row in reader:\n",
    "    data.append(row)\n",
    "\n",
    "# Use json.dump to write the entire list to the file\n",
    "json.dump(data, jsonfile, indent=2)\n",
    "\n",
    "# Close the files\n",
    "csvfile.close()\n",
    "jsonfile.close()"
   ]
  }
 ],
 "metadata": {
  "kernelspec": {
   "display_name": "Python 3 (ipykernel)",
   "language": "python",
   "name": "python3"
  },
  "language_info": {
   "codemirror_mode": {
    "name": "ipython",
    "version": 3
   },
   "file_extension": ".py",
   "mimetype": "text/x-python",
   "name": "python",
   "nbconvert_exporter": "python",
   "pygments_lexer": "ipython3",
   "version": "3.10.13"
  }
 },
 "nbformat": 4,
 "nbformat_minor": 5
}
