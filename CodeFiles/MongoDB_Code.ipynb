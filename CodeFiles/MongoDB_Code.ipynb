{
 "cells": [
  {
   "cell_type": "markdown",
   "id": "664e3c1f",
   "metadata": {},
   "source": [
    "Import the dataset with `mongoimport --type csv -d heart_attack_risk_db  -c heart_attack_data --headerline --drop heart_attack_risk.csv`"
   ]
  },
  {
   "cell_type": "code",
   "execution_count": 1,
   "id": "3ecdd008",
   "metadata": {},
   "outputs": [],
   "source": [
    "# Import dependencies\n",
    "from pymongo import MongoClient\n",
    "from pprint import pprint\n",
    "import pandas as pd\n",
    "\n",
    "# Import MongoClient Key\n",
    "from config import mongo_key"
   ]
  },
  {
   "cell_type": "code",
   "execution_count": 2,
   "id": "59390c4a",
   "metadata": {},
   "outputs": [],
   "source": [
    "# Create an instance of MongoClient\n",
    "mongo = MongoClient(mongo_key)"
   ]
  },
  {
   "cell_type": "code",
   "execution_count": 3,
   "id": "7f9ececa",
   "metadata": {},
   "outputs": [
    {
     "name": "stdout",
     "output_type": "stream",
     "text": [
      "['COVID19_DB', 'CitiBike_DB', 'heart_attack_risk_db', 'admin', 'local']\n"
     ]
    }
   ],
   "source": [
    "# Confirm that our new database was created\n",
    "print(mongo.list_database_names())"
   ]
  },
  {
   "cell_type": "code",
   "execution_count": 4,
   "id": "71e373c1",
   "metadata": {},
   "outputs": [],
   "source": [
    "# Assign the database to a variable name\n",
    "db = mongo['heart_attack_risk_db']"
   ]
  },
  {
   "cell_type": "code",
   "execution_count": 5,
   "id": "ef1b89ed",
   "metadata": {},
   "outputs": [
    {
     "name": "stdout",
     "output_type": "stream",
     "text": [
      "['heart_attack_data']\n"
     ]
    }
   ],
   "source": [
    "# Review the collections in our new database\n",
    "print(db.list_collection_names())"
   ]
  },
  {
   "cell_type": "code",
   "execution_count": 6,
   "id": "6a0d92df",
   "metadata": {},
   "outputs": [
    {
     "name": "stdout",
     "output_type": "stream",
     "text": [
      "{'Age': 67,\n",
      " 'Alcohol Consumption': 0,\n",
      " 'BMI': 31.25123273,\n",
      " 'Blood Pressure': '158/88',\n",
      " 'Cholesterol': 208,\n",
      " 'Continent': 'South America',\n",
      " 'Country': 'Argentina',\n",
      " 'Diabetes': 0,\n",
      " 'Diet': 'Average',\n",
      " 'Exercise Hours Per Week': 4.168188835,\n",
      " 'Family History': 0,\n",
      " 'Heart Attack Risk': 0,\n",
      " 'Heart Rate': 72,\n",
      " 'Hemisphere': 'Southern Hemisphere',\n",
      " 'Income': 261404,\n",
      " 'Medication Use': 0,\n",
      " 'Obesity': 0,\n",
      " 'Patient ID': 'BMW7812',\n",
      " 'Physical Activity Days Per Week': 0,\n",
      " 'Previous Heart Problems': 0,\n",
      " 'Sedentary Hours Per Day': 6.615001453,\n",
      " 'Sex': 'Male',\n",
      " 'Sleep Hours Per Day': 6,\n",
      " 'Smoking': 1,\n",
      " 'Stress Level': 9,\n",
      " 'Triglycerides': 286,\n",
      " '_id': ObjectId('65cebe94cf813089ec40a416')}\n"
     ]
    }
   ],
   "source": [
    "# Review a document in the collection\n",
    "pprint(db.heart_attack_data.find_one())"
   ]
  },
  {
   "cell_type": "code",
   "execution_count": 16,
   "id": "11c9f11b",
   "metadata": {},
   "outputs": [],
   "source": [
    "# Assign the collection to a variable\n",
    "heart_attack_records = db['heart_attack_data']"
   ]
  },
  {
   "cell_type": "code",
   "execution_count": 17,
   "id": "999b8c33",
   "metadata": {},
   "outputs": [],
   "source": [
    "# Retrieve data from the collection\n",
    "data_from_mongo = list(heart_attack_records.find())"
   ]
  },
  {
   "cell_type": "code",
   "execution_count": 18,
   "id": "d3a5e0e4",
   "metadata": {},
   "outputs": [
    {
     "name": "stdout",
     "output_type": "stream",
     "text": [
      "Number of rows: 8763\n"
     ]
    },
    {
     "data": {
      "text/html": [
       "<div>\n",
       "<style scoped>\n",
       "    .dataframe tbody tr th:only-of-type {\n",
       "        vertical-align: middle;\n",
       "    }\n",
       "\n",
       "    .dataframe tbody tr th {\n",
       "        vertical-align: top;\n",
       "    }\n",
       "\n",
       "    .dataframe thead th {\n",
       "        text-align: right;\n",
       "    }\n",
       "</style>\n",
       "<table border=\"1\" class=\"dataframe\">\n",
       "  <thead>\n",
       "    <tr style=\"text-align: right;\">\n",
       "      <th></th>\n",
       "      <th>_id</th>\n",
       "      <th>Patient ID</th>\n",
       "      <th>Age</th>\n",
       "      <th>Sex</th>\n",
       "      <th>Cholesterol</th>\n",
       "      <th>Blood Pressure</th>\n",
       "      <th>Heart Rate</th>\n",
       "      <th>Diabetes</th>\n",
       "      <th>Family History</th>\n",
       "      <th>Smoking</th>\n",
       "      <th>...</th>\n",
       "      <th>Sedentary Hours Per Day</th>\n",
       "      <th>Income</th>\n",
       "      <th>BMI</th>\n",
       "      <th>Triglycerides</th>\n",
       "      <th>Physical Activity Days Per Week</th>\n",
       "      <th>Sleep Hours Per Day</th>\n",
       "      <th>Country</th>\n",
       "      <th>Continent</th>\n",
       "      <th>Hemisphere</th>\n",
       "      <th>Heart Attack Risk</th>\n",
       "    </tr>\n",
       "  </thead>\n",
       "  <tbody>\n",
       "    <tr>\n",
       "      <th>0</th>\n",
       "      <td>65cebe94cf813089ec40a416</td>\n",
       "      <td>BMW7812</td>\n",
       "      <td>67</td>\n",
       "      <td>Male</td>\n",
       "      <td>208</td>\n",
       "      <td>158/88</td>\n",
       "      <td>72</td>\n",
       "      <td>0</td>\n",
       "      <td>0</td>\n",
       "      <td>1</td>\n",
       "      <td>...</td>\n",
       "      <td>6.615001</td>\n",
       "      <td>261404</td>\n",
       "      <td>31.251233</td>\n",
       "      <td>286</td>\n",
       "      <td>0</td>\n",
       "      <td>6</td>\n",
       "      <td>Argentina</td>\n",
       "      <td>South America</td>\n",
       "      <td>Southern Hemisphere</td>\n",
       "      <td>0</td>\n",
       "    </tr>\n",
       "    <tr>\n",
       "      <th>1</th>\n",
       "      <td>65cebe94cf813089ec40a417</td>\n",
       "      <td>CZE1114</td>\n",
       "      <td>21</td>\n",
       "      <td>Male</td>\n",
       "      <td>389</td>\n",
       "      <td>165/93</td>\n",
       "      <td>98</td>\n",
       "      <td>1</td>\n",
       "      <td>1</td>\n",
       "      <td>1</td>\n",
       "      <td>...</td>\n",
       "      <td>4.963459</td>\n",
       "      <td>285768</td>\n",
       "      <td>27.194973</td>\n",
       "      <td>235</td>\n",
       "      <td>1</td>\n",
       "      <td>7</td>\n",
       "      <td>Canada</td>\n",
       "      <td>North America</td>\n",
       "      <td>Northern Hemisphere</td>\n",
       "      <td>0</td>\n",
       "    </tr>\n",
       "    <tr>\n",
       "      <th>2</th>\n",
       "      <td>65cebe94cf813089ec40a418</td>\n",
       "      <td>BNI9906</td>\n",
       "      <td>21</td>\n",
       "      <td>Female</td>\n",
       "      <td>324</td>\n",
       "      <td>174/99</td>\n",
       "      <td>72</td>\n",
       "      <td>1</td>\n",
       "      <td>0</td>\n",
       "      <td>0</td>\n",
       "      <td>...</td>\n",
       "      <td>9.463426</td>\n",
       "      <td>235282</td>\n",
       "      <td>28.176571</td>\n",
       "      <td>587</td>\n",
       "      <td>4</td>\n",
       "      <td>4</td>\n",
       "      <td>France</td>\n",
       "      <td>Europe</td>\n",
       "      <td>Northern Hemisphere</td>\n",
       "      <td>0</td>\n",
       "    </tr>\n",
       "    <tr>\n",
       "      <th>3</th>\n",
       "      <td>65cebe94cf813089ec40a419</td>\n",
       "      <td>JLN3497</td>\n",
       "      <td>84</td>\n",
       "      <td>Male</td>\n",
       "      <td>383</td>\n",
       "      <td>163/100</td>\n",
       "      <td>73</td>\n",
       "      <td>1</td>\n",
       "      <td>1</td>\n",
       "      <td>1</td>\n",
       "      <td>...</td>\n",
       "      <td>7.648981</td>\n",
       "      <td>125640</td>\n",
       "      <td>36.464704</td>\n",
       "      <td>378</td>\n",
       "      <td>3</td>\n",
       "      <td>4</td>\n",
       "      <td>Canada</td>\n",
       "      <td>North America</td>\n",
       "      <td>Northern Hemisphere</td>\n",
       "      <td>0</td>\n",
       "    </tr>\n",
       "    <tr>\n",
       "      <th>4</th>\n",
       "      <td>65cebe94cf813089ec40a41a</td>\n",
       "      <td>GFO8847</td>\n",
       "      <td>66</td>\n",
       "      <td>Male</td>\n",
       "      <td>318</td>\n",
       "      <td>91/88</td>\n",
       "      <td>93</td>\n",
       "      <td>1</td>\n",
       "      <td>1</td>\n",
       "      <td>1</td>\n",
       "      <td>...</td>\n",
       "      <td>1.514821</td>\n",
       "      <td>160555</td>\n",
       "      <td>21.809144</td>\n",
       "      <td>231</td>\n",
       "      <td>1</td>\n",
       "      <td>5</td>\n",
       "      <td>Thailand</td>\n",
       "      <td>Asia</td>\n",
       "      <td>Northern Hemisphere</td>\n",
       "      <td>0</td>\n",
       "    </tr>\n",
       "  </tbody>\n",
       "</table>\n",
       "<p>5 rows × 27 columns</p>\n",
       "</div>"
      ],
      "text/plain": [
       "                        _id Patient ID  Age     Sex  Cholesterol  \\\n",
       "0  65cebe94cf813089ec40a416    BMW7812   67    Male          208   \n",
       "1  65cebe94cf813089ec40a417    CZE1114   21    Male          389   \n",
       "2  65cebe94cf813089ec40a418    BNI9906   21  Female          324   \n",
       "3  65cebe94cf813089ec40a419    JLN3497   84    Male          383   \n",
       "4  65cebe94cf813089ec40a41a    GFO8847   66    Male          318   \n",
       "\n",
       "  Blood Pressure  Heart Rate  Diabetes  Family History  Smoking  ...  \\\n",
       "0         158/88          72         0               0        1  ...   \n",
       "1         165/93          98         1               1        1  ...   \n",
       "2         174/99          72         1               0        0  ...   \n",
       "3        163/100          73         1               1        1  ...   \n",
       "4          91/88          93         1               1        1  ...   \n",
       "\n",
       "   Sedentary Hours Per Day  Income        BMI Triglycerides  \\\n",
       "0                 6.615001  261404  31.251233           286   \n",
       "1                 4.963459  285768  27.194973           235   \n",
       "2                 9.463426  235282  28.176571           587   \n",
       "3                 7.648981  125640  36.464704           378   \n",
       "4                 1.514821  160555  21.809144           231   \n",
       "\n",
       "   Physical Activity Days Per Week  Sleep Hours Per Day    Country  \\\n",
       "0                                0                    6  Argentina   \n",
       "1                                1                    7     Canada   \n",
       "2                                4                    4     France   \n",
       "3                                3                    4     Canada   \n",
       "4                                1                    5   Thailand   \n",
       "\n",
       "       Continent           Hemisphere  Heart Attack Risk  \n",
       "0  South America  Southern Hemisphere                  0  \n",
       "1  North America  Northern Hemisphere                  0  \n",
       "2         Europe  Northern Hemisphere                  0  \n",
       "3  North America  Northern Hemisphere                  0  \n",
       "4           Asia  Northern Hemisphere                  0  \n",
       "\n",
       "[5 rows x 27 columns]"
      ]
     },
     "execution_count": 18,
     "metadata": {},
     "output_type": "execute_result"
    }
   ],
   "source": [
    "# Convert the collection to a Pandas DataFrame\n",
    "heart_attack_df = pd.DataFrame(data_from_mongo)\n",
    "\n",
    "# Display the number of rows in the DataFrame\n",
    "print('Number of rows:', len(heart_attack_df))\n",
    "\n",
    "# Display the DataFrame\n",
    "heart_attack_df.head()"
   ]
  },
  {
   "cell_type": "code",
   "execution_count": 19,
   "id": "4ce6bc73",
   "metadata": {},
   "outputs": [
    {
     "data": {
      "text/plain": [
       "Index(['_id', 'Patient ID', 'Age', 'Sex', 'Cholesterol', 'Blood Pressure',\n",
       "       'Heart Rate', 'Diabetes', 'Family History', 'Smoking', 'Obesity',\n",
       "       'Alcohol Consumption', 'Exercise Hours Per Week', 'Diet',\n",
       "       'Previous Heart Problems', 'Medication Use', 'Stress Level',\n",
       "       'Sedentary Hours Per Day', 'Income', 'BMI', 'Triglycerides',\n",
       "       'Physical Activity Days Per Week', 'Sleep Hours Per Day', 'Country',\n",
       "       'Continent', 'Hemisphere', 'Heart Attack Risk'],\n",
       "      dtype='object')"
      ]
     },
     "execution_count": 19,
     "metadata": {},
     "output_type": "execute_result"
    }
   ],
   "source": [
    "# Confirm all columns are available\n",
    "heart_attack_df.columns"
   ]
  },
  {
   "cell_type": "code",
   "execution_count": 20,
   "id": "b1259a35",
   "metadata": {},
   "outputs": [
    {
     "name": "stdout",
     "output_type": "stream",
     "text": [
      "There are a total of 8763 values\n"
     ]
    },
    {
     "data": {
      "text/plain": [
       "Heart Attack Risk\n",
       "0    5624\n",
       "1    3139\n",
       "Name: count, dtype: int64"
      ]
     },
     "execution_count": 20,
     "metadata": {},
     "output_type": "execute_result"
    }
   ],
   "source": [
    "Count = heart_attack_df['Heart Attack Risk'].count()\n",
    "print(f'There are a total of {Count} values')\n",
    "\n",
    "heart_attack_df['Heart Attack Risk'].value_counts()"
   ]
  },
  {
   "cell_type": "code",
   "execution_count": 21,
   "id": "792653eb",
   "metadata": {},
   "outputs": [],
   "source": [
    "# Drop id column\n",
    "heart_attack_df = heart_attack_df.drop('_id', axis=1)"
   ]
  },
  {
   "cell_type": "code",
   "execution_count": 22,
   "id": "d3b57134",
   "metadata": {},
   "outputs": [
    {
     "name": "stdout",
     "output_type": "stream",
     "text": [
      "['Patient ID',\n",
      " 'Age',\n",
      " 'Sex',\n",
      " 'Cholesterol',\n",
      " 'Blood Pressure',\n",
      " 'Heart Rate',\n",
      " 'Diabetes',\n",
      " 'Family History',\n",
      " 'Smoking',\n",
      " 'Obesity',\n",
      " 'Alcohol Consumption',\n",
      " 'Exercise Hours Per Week',\n",
      " 'Diet',\n",
      " 'Previous Heart Problems',\n",
      " 'Medication Use',\n",
      " 'Stress Level',\n",
      " 'Sedentary Hours Per Day',\n",
      " 'Income',\n",
      " 'BMI',\n",
      " 'Triglycerides',\n",
      " 'Physical Activity Days Per Week',\n",
      " 'Sleep Hours Per Day',\n",
      " 'Country',\n",
      " 'Continent',\n",
      " 'Hemisphere',\n",
      " 'Heart Attack Risk']\n"
     ]
    }
   ],
   "source": [
    "pprint(heart_attack_df.columns.tolist())"
   ]
  },
  {
   "cell_type": "code",
   "execution_count": 23,
   "id": "049246cd",
   "metadata": {},
   "outputs": [],
   "source": [
    "# Save dataframe to csv\n",
    "heart_attack_df.to_csv(\"heart_attack_risk_data.csv\", index=False)"
   ]
  },
  {
   "cell_type": "code",
   "execution_count": 24,
   "id": "111d7448",
   "metadata": {},
   "outputs": [],
   "source": [
    "import csv\n",
    "import json\n",
    "\n",
    "# Convert CSV to JSON for dashboard\n",
    "csvfile = open('heart_attack_risk_data.csv', 'r')\n",
    "jsonfile = open('heart_attack_risk.json', 'w')\n",
    "\n",
    "fieldnames = [\n",
    "    'Patient ID', 'Age', 'Sex', 'Cholesterol', 'Blood Pressure',\n",
    "    'Heart Rate', 'Diabetes', 'Family History', 'Smoking', 'Obesity',\n",
    "    'Alcohol Consumption', 'Exercise Hours Per Week', 'Diet',\n",
    "    'Previous Heart Problems', 'Medication Use', 'Stress Level',\n",
    "    'Sedentary Hours Per Day', 'Income', 'BMI', 'Triglycerides',\n",
    "    'Physical Activity Days Per Week', 'Sleep Hours Per Day', 'Country',\n",
    "    'Continent', 'Hemisphere', 'Heart Attack Risk'\n",
    "]\n",
    "\n",
    "reader = csv.DictReader(csvfile, fieldnames)\n",
    "\n",
    "# Create a list to hold the rows\n",
    "data = []\n",
    "\n",
    "# Skip the first row (header)\n",
    "next(reader)\n",
    "\n",
    "for row in reader:\n",
    "    data.append(row)\n",
    "\n",
    "# Use json.dump to write the entire list to the file\n",
    "json.dump(data, jsonfile, indent=2)\n",
    "\n",
    "# Close the files\n",
    "csvfile.close()\n",
    "jsonfile.close()"
   ]
  }
 ],
 "metadata": {
  "kernelspec": {
   "display_name": "Python 3 (ipykernel)",
   "language": "python",
   "name": "python3"
  },
  "language_info": {
   "codemirror_mode": {
    "name": "ipython",
    "version": 3
   },
   "file_extension": ".py",
   "mimetype": "text/x-python",
   "name": "python",
   "nbconvert_exporter": "python",
   "pygments_lexer": "ipython3",
   "version": "3.10.13"
  }
 },
 "nbformat": 4,
 "nbformat_minor": 5
}
