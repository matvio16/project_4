{
 "cells": [
  {
   "cell_type": "code",
   "execution_count": 1,
   "metadata": {},
   "outputs": [],
   "source": [
    "import joblib\n",
    "import pandas as pd"
   ]
  },
  {
   "cell_type": "code",
   "execution_count": 41,
   "metadata": {},
   "outputs": [],
   "source": [
    "test_dict = {'Sex': 'Male',\n",
    "             'Age': 50,\n",
    "             'Cholesterol': 386,\n",
    "             'Heart Rate': 95,\n",
    "             'Diabetes': 1,\n",
    "             'Family History': 1,\n",
    "             'Smoking': 1,\n",
    "             'Obesity': 1,\n",
    "             'Alcohol Consumption': 1,\n",
    "             'Exercise Hours Per Week': 0,\n",
    "             'Diet': 'Average',\n",
    "             'Previous Heart Problems': 0,\n",
    "             'Medication Use': 1,\n",
    "             'Stress Level': 10,\n",
    "             'Sedentary Hours Per Day': 15,\n",
    "             'Income': 100000,\n",
    "             'BMI': 20,\n",
    "             'Triglycerides': 400,\n",
    "             'Physical Activity Days Per Week': 0,\n",
    "             'Sleep Hours Per Day': 8,\n",
    "             'Country': 'United States',\n",
    "             'Continent': 'North America',\n",
    "             'Hemisphere': 'Northern Hemisphere'}"
   ]
  },
  {
   "cell_type": "code",
   "execution_count": 42,
   "metadata": {},
   "outputs": [],
   "source": [
    "X_test = pd.DataFrame(test_dict, index=[0])"
   ]
  },
  {
   "cell_type": "code",
   "execution_count": 43,
   "metadata": {},
   "outputs": [],
   "source": [
    "model = joblib.load(\"rf_model.pkl\")"
   ]
  },
  {
   "cell_type": "code",
   "execution_count": 44,
   "metadata": {},
   "outputs": [
    {
     "data": {
      "text/plain": [
       "array([1], dtype=int64)"
      ]
     },
     "execution_count": 44,
     "metadata": {},
     "output_type": "execute_result"
    }
   ],
   "source": [
    "prediction = model.predict(X_test)\n",
    "prediction"
   ]
  },
  {
   "cell_type": "code",
   "execution_count": null,
   "metadata": {},
   "outputs": [],
   "source": []
  }
 ],
 "metadata": {
  "kernelspec": {
   "display_name": "PythonData_082023",
   "language": "python",
   "name": "python3"
  },
  "language_info": {
   "codemirror_mode": {
    "name": "ipython",
    "version": 3
   },
   "file_extension": ".py",
   "mimetype": "text/x-python",
   "name": "python",
   "nbconvert_exporter": "python",
   "pygments_lexer": "ipython3",
   "version": "3.10.13"
  }
 },
 "nbformat": 4,
 "nbformat_minor": 2
}
