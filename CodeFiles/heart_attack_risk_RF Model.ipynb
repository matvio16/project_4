{
 "cells": [
  {
   "cell_type": "code",
   "execution_count": 1,
   "id": "cd0d9e9a-09ef-47e7-b6db-1dd8ec2f537c",
   "metadata": {
    "tags": []
   },
   "outputs": [],
   "source": [
    "# Import necessary libraries\n",
    "import pandas as pd\n",
    "from sklearn.model_selection import train_test_split\n",
    "from sklearn.preprocessing import StandardScaler, OneHotEncoder\n",
    "from sklearn.compose import ColumnTransformer\n",
    "from sklearn.pipeline import Pipeline\n",
    "from sklearn.linear_model import LogisticRegression\n",
    "from sklearn.metrics import accuracy_score, classification_report\n",
    "from pymongo import MongoClient\n",
    "from config import mongo_key"
   ]
  },
  {
   "cell_type": "code",
   "execution_count": 2,
   "id": "4c4e7960",
   "metadata": {},
   "outputs": [],
   "source": [
    "# Create an instance of MongoClient\n",
    "mongo = MongoClient(mongo_key)\n",
    "\n",
    "# Assign the database to a variable name\n",
    "db = mongo['heart_attack_risk_db']\n",
    "\n",
    "# Assign the collection to a variable\n",
    "heart_attack_records = db['heart_attack_data']\n",
    "\n",
    "# Retrieve data from the collection\n",
    "data_from_mongo = list(heart_attack_records.find())"
   ]
  },
  {
   "cell_type": "code",
   "execution_count": 3,
   "id": "99c57ecc",
   "metadata": {},
   "outputs": [
    {
     "name": "stdout",
     "output_type": "stream",
     "text": [
      "Number of rows: 8763\n"
     ]
    },
    {
     "data": {
      "text/html": [
       "<div>\n",
       "<style scoped>\n",
       "    .dataframe tbody tr th:only-of-type {\n",
       "        vertical-align: middle;\n",
       "    }\n",
       "\n",
       "    .dataframe tbody tr th {\n",
       "        vertical-align: top;\n",
       "    }\n",
       "\n",
       "    .dataframe thead th {\n",
       "        text-align: right;\n",
       "    }\n",
       "</style>\n",
       "<table border=\"1\" class=\"dataframe\">\n",
       "  <thead>\n",
       "    <tr style=\"text-align: right;\">\n",
       "      <th></th>\n",
       "      <th>_id</th>\n",
       "      <th>Patient ID</th>\n",
       "      <th>Age</th>\n",
       "      <th>Sex</th>\n",
       "      <th>Cholesterol</th>\n",
       "      <th>Blood Pressure</th>\n",
       "      <th>Heart Rate</th>\n",
       "      <th>Diabetes</th>\n",
       "      <th>Family History</th>\n",
       "      <th>Smoking</th>\n",
       "      <th>...</th>\n",
       "      <th>Sedentary Hours Per Day</th>\n",
       "      <th>Income</th>\n",
       "      <th>BMI</th>\n",
       "      <th>Triglycerides</th>\n",
       "      <th>Physical Activity Days Per Week</th>\n",
       "      <th>Sleep Hours Per Day</th>\n",
       "      <th>Country</th>\n",
       "      <th>Continent</th>\n",
       "      <th>Hemisphere</th>\n",
       "      <th>Heart Attack Risk</th>\n",
       "    </tr>\n",
       "  </thead>\n",
       "  <tbody>\n",
       "    <tr>\n",
       "      <th>0</th>\n",
       "      <td>65cebe94cf813089ec40a416</td>\n",
       "      <td>BMW7812</td>\n",
       "      <td>67</td>\n",
       "      <td>Male</td>\n",
       "      <td>208</td>\n",
       "      <td>158/88</td>\n",
       "      <td>72</td>\n",
       "      <td>0</td>\n",
       "      <td>0</td>\n",
       "      <td>1</td>\n",
       "      <td>...</td>\n",
       "      <td>6.615001</td>\n",
       "      <td>261404</td>\n",
       "      <td>31.251233</td>\n",
       "      <td>286</td>\n",
       "      <td>0</td>\n",
       "      <td>6</td>\n",
       "      <td>Argentina</td>\n",
       "      <td>South America</td>\n",
       "      <td>Southern Hemisphere</td>\n",
       "      <td>0</td>\n",
       "    </tr>\n",
       "    <tr>\n",
       "      <th>1</th>\n",
       "      <td>65cebe94cf813089ec40a417</td>\n",
       "      <td>CZE1114</td>\n",
       "      <td>21</td>\n",
       "      <td>Male</td>\n",
       "      <td>389</td>\n",
       "      <td>165/93</td>\n",
       "      <td>98</td>\n",
       "      <td>1</td>\n",
       "      <td>1</td>\n",
       "      <td>1</td>\n",
       "      <td>...</td>\n",
       "      <td>4.963459</td>\n",
       "      <td>285768</td>\n",
       "      <td>27.194973</td>\n",
       "      <td>235</td>\n",
       "      <td>1</td>\n",
       "      <td>7</td>\n",
       "      <td>Canada</td>\n",
       "      <td>North America</td>\n",
       "      <td>Northern Hemisphere</td>\n",
       "      <td>0</td>\n",
       "    </tr>\n",
       "    <tr>\n",
       "      <th>2</th>\n",
       "      <td>65cebe94cf813089ec40a418</td>\n",
       "      <td>BNI9906</td>\n",
       "      <td>21</td>\n",
       "      <td>Female</td>\n",
       "      <td>324</td>\n",
       "      <td>174/99</td>\n",
       "      <td>72</td>\n",
       "      <td>1</td>\n",
       "      <td>0</td>\n",
       "      <td>0</td>\n",
       "      <td>...</td>\n",
       "      <td>9.463426</td>\n",
       "      <td>235282</td>\n",
       "      <td>28.176571</td>\n",
       "      <td>587</td>\n",
       "      <td>4</td>\n",
       "      <td>4</td>\n",
       "      <td>France</td>\n",
       "      <td>Europe</td>\n",
       "      <td>Northern Hemisphere</td>\n",
       "      <td>0</td>\n",
       "    </tr>\n",
       "    <tr>\n",
       "      <th>3</th>\n",
       "      <td>65cebe94cf813089ec40a419</td>\n",
       "      <td>JLN3497</td>\n",
       "      <td>84</td>\n",
       "      <td>Male</td>\n",
       "      <td>383</td>\n",
       "      <td>163/100</td>\n",
       "      <td>73</td>\n",
       "      <td>1</td>\n",
       "      <td>1</td>\n",
       "      <td>1</td>\n",
       "      <td>...</td>\n",
       "      <td>7.648981</td>\n",
       "      <td>125640</td>\n",
       "      <td>36.464704</td>\n",
       "      <td>378</td>\n",
       "      <td>3</td>\n",
       "      <td>4</td>\n",
       "      <td>Canada</td>\n",
       "      <td>North America</td>\n",
       "      <td>Northern Hemisphere</td>\n",
       "      <td>0</td>\n",
       "    </tr>\n",
       "    <tr>\n",
       "      <th>4</th>\n",
       "      <td>65cebe94cf813089ec40a41a</td>\n",
       "      <td>GFO8847</td>\n",
       "      <td>66</td>\n",
       "      <td>Male</td>\n",
       "      <td>318</td>\n",
       "      <td>91/88</td>\n",
       "      <td>93</td>\n",
       "      <td>1</td>\n",
       "      <td>1</td>\n",
       "      <td>1</td>\n",
       "      <td>...</td>\n",
       "      <td>1.514821</td>\n",
       "      <td>160555</td>\n",
       "      <td>21.809144</td>\n",
       "      <td>231</td>\n",
       "      <td>1</td>\n",
       "      <td>5</td>\n",
       "      <td>Thailand</td>\n",
       "      <td>Asia</td>\n",
       "      <td>Northern Hemisphere</td>\n",
       "      <td>0</td>\n",
       "    </tr>\n",
       "  </tbody>\n",
       "</table>\n",
       "<p>5 rows × 27 columns</p>\n",
       "</div>"
      ],
      "text/plain": [
       "                        _id Patient ID  Age     Sex  Cholesterol  \\\n",
       "0  65cebe94cf813089ec40a416    BMW7812   67    Male          208   \n",
       "1  65cebe94cf813089ec40a417    CZE1114   21    Male          389   \n",
       "2  65cebe94cf813089ec40a418    BNI9906   21  Female          324   \n",
       "3  65cebe94cf813089ec40a419    JLN3497   84    Male          383   \n",
       "4  65cebe94cf813089ec40a41a    GFO8847   66    Male          318   \n",
       "\n",
       "  Blood Pressure  Heart Rate  Diabetes  Family History  Smoking  ...  \\\n",
       "0         158/88          72         0               0        1  ...   \n",
       "1         165/93          98         1               1        1  ...   \n",
       "2         174/99          72         1               0        0  ...   \n",
       "3        163/100          73         1               1        1  ...   \n",
       "4          91/88          93         1               1        1  ...   \n",
       "\n",
       "   Sedentary Hours Per Day  Income        BMI Triglycerides  \\\n",
       "0                 6.615001  261404  31.251233           286   \n",
       "1                 4.963459  285768  27.194973           235   \n",
       "2                 9.463426  235282  28.176571           587   \n",
       "3                 7.648981  125640  36.464704           378   \n",
       "4                 1.514821  160555  21.809144           231   \n",
       "\n",
       "   Physical Activity Days Per Week  Sleep Hours Per Day    Country  \\\n",
       "0                                0                    6  Argentina   \n",
       "1                                1                    7     Canada   \n",
       "2                                4                    4     France   \n",
       "3                                3                    4     Canada   \n",
       "4                                1                    5   Thailand   \n",
       "\n",
       "       Continent           Hemisphere  Heart Attack Risk  \n",
       "0  South America  Southern Hemisphere                  0  \n",
       "1  North America  Northern Hemisphere                  0  \n",
       "2         Europe  Northern Hemisphere                  0  \n",
       "3  North America  Northern Hemisphere                  0  \n",
       "4           Asia  Northern Hemisphere                  0  \n",
       "\n",
       "[5 rows x 27 columns]"
      ]
     },
     "execution_count": 3,
     "metadata": {},
     "output_type": "execute_result"
    }
   ],
   "source": [
    "# Convert the collection to a Pandas DataFrame\n",
    "heart_attack_df = pd.DataFrame(data_from_mongo)\n",
    "\n",
    "# Display the number of rows in the DataFrame\n",
    "print('Number of rows:', len(heart_attack_df))\n",
    "\n",
    "# Display the DataFrame\n",
    "heart_attack_df.head()"
   ]
  },
  {
   "cell_type": "code",
   "execution_count": 21,
   "id": "94e7ebd9-993e-4cdf-9302-7a83615ef664",
   "metadata": {
    "tags": []
   },
   "outputs": [],
   "source": [
    "# Preprocess the data\n",
    "# Select features and target\n",
    "X = heart_attack_df.drop(['Patient ID', 'Heart Attack Risk', 'Blood Pressure', '_id'], axis=1)\n",
    "# X = heart_attack_df[['Cholesterol', 'Heart Rate', 'Physical Activity Days Per Week']]\n",
    "y = heart_attack_df['Heart Attack Risk']\n",
    "\n"
   ]
  },
  {
   "cell_type": "code",
   "execution_count": 22,
   "id": "c023877e-aa3e-4453-bcec-02a1b50f6e0a",
   "metadata": {
    "tags": []
   },
   "outputs": [
    {
     "data": {
      "text/plain": [
       "['Age',\n",
       " 'Cholesterol',\n",
       " 'Heart Rate',\n",
       " 'Diabetes',\n",
       " 'Family History',\n",
       " 'Smoking',\n",
       " 'Obesity',\n",
       " 'Alcohol Consumption',\n",
       " 'Exercise Hours Per Week',\n",
       " 'Previous Heart Problems',\n",
       " 'Medication Use',\n",
       " 'Stress Level',\n",
       " 'Sedentary Hours Per Day',\n",
       " 'Income',\n",
       " 'BMI',\n",
       " 'Triglycerides',\n",
       " 'Physical Activity Days Per Week',\n",
       " 'Sleep Hours Per Day']"
      ]
     },
     "execution_count": 22,
     "metadata": {},
     "output_type": "execute_result"
    }
   ],
   "source": [
    "# Handling categorical and numerical features\n",
    "categorical_features = X.select_dtypes(include=['object']).columns.tolist()\n",
    "numerical_features = X.select_dtypes(exclude=['object']).columns.tolist()\n",
    "\n",
    "categorical_features\n",
    "numerical_features"
   ]
  },
  {
   "cell_type": "code",
   "execution_count": 23,
   "id": "081e5b1b-41cf-4b83-b1b5-17346e6963a6",
   "metadata": {
    "tags": []
   },
   "outputs": [
    {
     "data": {
      "text/html": [
       "<style>#sk-container-id-5 {color: black;}#sk-container-id-5 pre{padding: 0;}#sk-container-id-5 div.sk-toggleable {background-color: white;}#sk-container-id-5 label.sk-toggleable__label {cursor: pointer;display: block;width: 100%;margin-bottom: 0;padding: 0.3em;box-sizing: border-box;text-align: center;}#sk-container-id-5 label.sk-toggleable__label-arrow:before {content: \"▸\";float: left;margin-right: 0.25em;color: #696969;}#sk-container-id-5 label.sk-toggleable__label-arrow:hover:before {color: black;}#sk-container-id-5 div.sk-estimator:hover label.sk-toggleable__label-arrow:before {color: black;}#sk-container-id-5 div.sk-toggleable__content {max-height: 0;max-width: 0;overflow: hidden;text-align: left;background-color: #f0f8ff;}#sk-container-id-5 div.sk-toggleable__content pre {margin: 0.2em;color: black;border-radius: 0.25em;background-color: #f0f8ff;}#sk-container-id-5 input.sk-toggleable__control:checked~div.sk-toggleable__content {max-height: 200px;max-width: 100%;overflow: auto;}#sk-container-id-5 input.sk-toggleable__control:checked~label.sk-toggleable__label-arrow:before {content: \"▾\";}#sk-container-id-5 div.sk-estimator input.sk-toggleable__control:checked~label.sk-toggleable__label {background-color: #d4ebff;}#sk-container-id-5 div.sk-label input.sk-toggleable__control:checked~label.sk-toggleable__label {background-color: #d4ebff;}#sk-container-id-5 input.sk-hidden--visually {border: 0;clip: rect(1px 1px 1px 1px);clip: rect(1px, 1px, 1px, 1px);height: 1px;margin: -1px;overflow: hidden;padding: 0;position: absolute;width: 1px;}#sk-container-id-5 div.sk-estimator {font-family: monospace;background-color: #f0f8ff;border: 1px dotted black;border-radius: 0.25em;box-sizing: border-box;margin-bottom: 0.5em;}#sk-container-id-5 div.sk-estimator:hover {background-color: #d4ebff;}#sk-container-id-5 div.sk-parallel-item::after {content: \"\";width: 100%;border-bottom: 1px solid gray;flex-grow: 1;}#sk-container-id-5 div.sk-label:hover label.sk-toggleable__label {background-color: #d4ebff;}#sk-container-id-5 div.sk-serial::before {content: \"\";position: absolute;border-left: 1px solid gray;box-sizing: border-box;top: 0;bottom: 0;left: 50%;z-index: 0;}#sk-container-id-5 div.sk-serial {display: flex;flex-direction: column;align-items: center;background-color: white;padding-right: 0.2em;padding-left: 0.2em;position: relative;}#sk-container-id-5 div.sk-item {position: relative;z-index: 1;}#sk-container-id-5 div.sk-parallel {display: flex;align-items: stretch;justify-content: center;background-color: white;position: relative;}#sk-container-id-5 div.sk-item::before, #sk-container-id-5 div.sk-parallel-item::before {content: \"\";position: absolute;border-left: 1px solid gray;box-sizing: border-box;top: 0;bottom: 0;left: 50%;z-index: -1;}#sk-container-id-5 div.sk-parallel-item {display: flex;flex-direction: column;z-index: 1;position: relative;background-color: white;}#sk-container-id-5 div.sk-parallel-item:first-child::after {align-self: flex-end;width: 50%;}#sk-container-id-5 div.sk-parallel-item:last-child::after {align-self: flex-start;width: 50%;}#sk-container-id-5 div.sk-parallel-item:only-child::after {width: 0;}#sk-container-id-5 div.sk-dashed-wrapped {border: 1px dashed gray;margin: 0 0.4em 0.5em 0.4em;box-sizing: border-box;padding-bottom: 0.4em;background-color: white;}#sk-container-id-5 div.sk-label label {font-family: monospace;font-weight: bold;display: inline-block;line-height: 1.2em;}#sk-container-id-5 div.sk-label-container {text-align: center;}#sk-container-id-5 div.sk-container {/* jupyter's `normalize.less` sets `[hidden] { display: none; }` but bootstrap.min.css set `[hidden] { display: none !important; }` so we also need the `!important` here to be able to override the default hidden behavior on the sphinx rendered scikit-learn.org. See: https://github.com/scikit-learn/scikit-learn/issues/21755 */display: inline-block !important;position: relative;}#sk-container-id-5 div.sk-text-repr-fallback {display: none;}</style><div id=\"sk-container-id-5\" class=\"sk-top-container\"><div class=\"sk-text-repr-fallback\"><pre>ColumnTransformer(transformers=[(&#x27;num&#x27;, StandardScaler(),\n",
       "                                 [&#x27;Age&#x27;, &#x27;Cholesterol&#x27;, &#x27;Heart Rate&#x27;,\n",
       "                                  &#x27;Diabetes&#x27;, &#x27;Family History&#x27;, &#x27;Smoking&#x27;,\n",
       "                                  &#x27;Obesity&#x27;, &#x27;Alcohol Consumption&#x27;,\n",
       "                                  &#x27;Exercise Hours Per Week&#x27;,\n",
       "                                  &#x27;Previous Heart Problems&#x27;, &#x27;Medication Use&#x27;,\n",
       "                                  &#x27;Stress Level&#x27;, &#x27;Sedentary Hours Per Day&#x27;,\n",
       "                                  &#x27;Income&#x27;, &#x27;BMI&#x27;, &#x27;Triglycerides&#x27;,\n",
       "                                  &#x27;Physical Activity Days Per Week&#x27;,\n",
       "                                  &#x27;Sleep Hours Per Day&#x27;]),\n",
       "                                (&#x27;cat&#x27;, OneHotEncoder(),\n",
       "                                 [&#x27;Sex&#x27;, &#x27;Diet&#x27;, &#x27;Country&#x27;, &#x27;Continent&#x27;,\n",
       "                                  &#x27;Hemisphere&#x27;])])</pre><b>In a Jupyter environment, please rerun this cell to show the HTML representation or trust the notebook. <br />On GitHub, the HTML representation is unable to render, please try loading this page with nbviewer.org.</b></div><div class=\"sk-container\" hidden><div class=\"sk-item sk-dashed-wrapped\"><div class=\"sk-label-container\"><div class=\"sk-label sk-toggleable\"><input class=\"sk-toggleable__control sk-hidden--visually\" id=\"sk-estimator-id-27\" type=\"checkbox\" ><label for=\"sk-estimator-id-27\" class=\"sk-toggleable__label sk-toggleable__label-arrow\">ColumnTransformer</label><div class=\"sk-toggleable__content\"><pre>ColumnTransformer(transformers=[(&#x27;num&#x27;, StandardScaler(),\n",
       "                                 [&#x27;Age&#x27;, &#x27;Cholesterol&#x27;, &#x27;Heart Rate&#x27;,\n",
       "                                  &#x27;Diabetes&#x27;, &#x27;Family History&#x27;, &#x27;Smoking&#x27;,\n",
       "                                  &#x27;Obesity&#x27;, &#x27;Alcohol Consumption&#x27;,\n",
       "                                  &#x27;Exercise Hours Per Week&#x27;,\n",
       "                                  &#x27;Previous Heart Problems&#x27;, &#x27;Medication Use&#x27;,\n",
       "                                  &#x27;Stress Level&#x27;, &#x27;Sedentary Hours Per Day&#x27;,\n",
       "                                  &#x27;Income&#x27;, &#x27;BMI&#x27;, &#x27;Triglycerides&#x27;,\n",
       "                                  &#x27;Physical Activity Days Per Week&#x27;,\n",
       "                                  &#x27;Sleep Hours Per Day&#x27;]),\n",
       "                                (&#x27;cat&#x27;, OneHotEncoder(),\n",
       "                                 [&#x27;Sex&#x27;, &#x27;Diet&#x27;, &#x27;Country&#x27;, &#x27;Continent&#x27;,\n",
       "                                  &#x27;Hemisphere&#x27;])])</pre></div></div></div><div class=\"sk-parallel\"><div class=\"sk-parallel-item\"><div class=\"sk-item\"><div class=\"sk-label-container\"><div class=\"sk-label sk-toggleable\"><input class=\"sk-toggleable__control sk-hidden--visually\" id=\"sk-estimator-id-28\" type=\"checkbox\" ><label for=\"sk-estimator-id-28\" class=\"sk-toggleable__label sk-toggleable__label-arrow\">num</label><div class=\"sk-toggleable__content\"><pre>[&#x27;Age&#x27;, &#x27;Cholesterol&#x27;, &#x27;Heart Rate&#x27;, &#x27;Diabetes&#x27;, &#x27;Family History&#x27;, &#x27;Smoking&#x27;, &#x27;Obesity&#x27;, &#x27;Alcohol Consumption&#x27;, &#x27;Exercise Hours Per Week&#x27;, &#x27;Previous Heart Problems&#x27;, &#x27;Medication Use&#x27;, &#x27;Stress Level&#x27;, &#x27;Sedentary Hours Per Day&#x27;, &#x27;Income&#x27;, &#x27;BMI&#x27;, &#x27;Triglycerides&#x27;, &#x27;Physical Activity Days Per Week&#x27;, &#x27;Sleep Hours Per Day&#x27;]</pre></div></div></div><div class=\"sk-serial\"><div class=\"sk-item\"><div class=\"sk-estimator sk-toggleable\"><input class=\"sk-toggleable__control sk-hidden--visually\" id=\"sk-estimator-id-29\" type=\"checkbox\" ><label for=\"sk-estimator-id-29\" class=\"sk-toggleable__label sk-toggleable__label-arrow\">StandardScaler</label><div class=\"sk-toggleable__content\"><pre>StandardScaler()</pre></div></div></div></div></div></div><div class=\"sk-parallel-item\"><div class=\"sk-item\"><div class=\"sk-label-container\"><div class=\"sk-label sk-toggleable\"><input class=\"sk-toggleable__control sk-hidden--visually\" id=\"sk-estimator-id-30\" type=\"checkbox\" ><label for=\"sk-estimator-id-30\" class=\"sk-toggleable__label sk-toggleable__label-arrow\">cat</label><div class=\"sk-toggleable__content\"><pre>[&#x27;Sex&#x27;, &#x27;Diet&#x27;, &#x27;Country&#x27;, &#x27;Continent&#x27;, &#x27;Hemisphere&#x27;]</pre></div></div></div><div class=\"sk-serial\"><div class=\"sk-item\"><div class=\"sk-estimator sk-toggleable\"><input class=\"sk-toggleable__control sk-hidden--visually\" id=\"sk-estimator-id-31\" type=\"checkbox\" ><label for=\"sk-estimator-id-31\" class=\"sk-toggleable__label sk-toggleable__label-arrow\">OneHotEncoder</label><div class=\"sk-toggleable__content\"><pre>OneHotEncoder()</pre></div></div></div></div></div></div></div></div></div></div>"
      ],
      "text/plain": [
       "ColumnTransformer(transformers=[('num', StandardScaler(),\n",
       "                                 ['Age', 'Cholesterol', 'Heart Rate',\n",
       "                                  'Diabetes', 'Family History', 'Smoking',\n",
       "                                  'Obesity', 'Alcohol Consumption',\n",
       "                                  'Exercise Hours Per Week',\n",
       "                                  'Previous Heart Problems', 'Medication Use',\n",
       "                                  'Stress Level', 'Sedentary Hours Per Day',\n",
       "                                  'Income', 'BMI', 'Triglycerides',\n",
       "                                  'Physical Activity Days Per Week',\n",
       "                                  'Sleep Hours Per Day']),\n",
       "                                ('cat', OneHotEncoder(),\n",
       "                                 ['Sex', 'Diet', 'Country', 'Continent',\n",
       "                                  'Hemisphere'])])"
      ]
     },
     "execution_count": 23,
     "metadata": {},
     "output_type": "execute_result"
    }
   ],
   "source": [
    "# Creating a preprocessing pipeline\n",
    "preprocessor = ColumnTransformer(\n",
    "    transformers=[\n",
    "        ('num', StandardScaler(), numerical_features),\n",
    "        ('cat', OneHotEncoder(), categorical_features)\n",
    "    ])\n",
    "\n",
    "preprocessor"
   ]
  },
  {
   "cell_type": "code",
   "execution_count": 24,
   "id": "f5befa2e-498c-4b8a-a418-8a56657a8db5",
   "metadata": {
    "tags": []
   },
   "outputs": [
    {
     "data": {
      "text/html": [
       "<style>#sk-container-id-6 {color: black;}#sk-container-id-6 pre{padding: 0;}#sk-container-id-6 div.sk-toggleable {background-color: white;}#sk-container-id-6 label.sk-toggleable__label {cursor: pointer;display: block;width: 100%;margin-bottom: 0;padding: 0.3em;box-sizing: border-box;text-align: center;}#sk-container-id-6 label.sk-toggleable__label-arrow:before {content: \"▸\";float: left;margin-right: 0.25em;color: #696969;}#sk-container-id-6 label.sk-toggleable__label-arrow:hover:before {color: black;}#sk-container-id-6 div.sk-estimator:hover label.sk-toggleable__label-arrow:before {color: black;}#sk-container-id-6 div.sk-toggleable__content {max-height: 0;max-width: 0;overflow: hidden;text-align: left;background-color: #f0f8ff;}#sk-container-id-6 div.sk-toggleable__content pre {margin: 0.2em;color: black;border-radius: 0.25em;background-color: #f0f8ff;}#sk-container-id-6 input.sk-toggleable__control:checked~div.sk-toggleable__content {max-height: 200px;max-width: 100%;overflow: auto;}#sk-container-id-6 input.sk-toggleable__control:checked~label.sk-toggleable__label-arrow:before {content: \"▾\";}#sk-container-id-6 div.sk-estimator input.sk-toggleable__control:checked~label.sk-toggleable__label {background-color: #d4ebff;}#sk-container-id-6 div.sk-label input.sk-toggleable__control:checked~label.sk-toggleable__label {background-color: #d4ebff;}#sk-container-id-6 input.sk-hidden--visually {border: 0;clip: rect(1px 1px 1px 1px);clip: rect(1px, 1px, 1px, 1px);height: 1px;margin: -1px;overflow: hidden;padding: 0;position: absolute;width: 1px;}#sk-container-id-6 div.sk-estimator {font-family: monospace;background-color: #f0f8ff;border: 1px dotted black;border-radius: 0.25em;box-sizing: border-box;margin-bottom: 0.5em;}#sk-container-id-6 div.sk-estimator:hover {background-color: #d4ebff;}#sk-container-id-6 div.sk-parallel-item::after {content: \"\";width: 100%;border-bottom: 1px solid gray;flex-grow: 1;}#sk-container-id-6 div.sk-label:hover label.sk-toggleable__label {background-color: #d4ebff;}#sk-container-id-6 div.sk-serial::before {content: \"\";position: absolute;border-left: 1px solid gray;box-sizing: border-box;top: 0;bottom: 0;left: 50%;z-index: 0;}#sk-container-id-6 div.sk-serial {display: flex;flex-direction: column;align-items: center;background-color: white;padding-right: 0.2em;padding-left: 0.2em;position: relative;}#sk-container-id-6 div.sk-item {position: relative;z-index: 1;}#sk-container-id-6 div.sk-parallel {display: flex;align-items: stretch;justify-content: center;background-color: white;position: relative;}#sk-container-id-6 div.sk-item::before, #sk-container-id-6 div.sk-parallel-item::before {content: \"\";position: absolute;border-left: 1px solid gray;box-sizing: border-box;top: 0;bottom: 0;left: 50%;z-index: -1;}#sk-container-id-6 div.sk-parallel-item {display: flex;flex-direction: column;z-index: 1;position: relative;background-color: white;}#sk-container-id-6 div.sk-parallel-item:first-child::after {align-self: flex-end;width: 50%;}#sk-container-id-6 div.sk-parallel-item:last-child::after {align-self: flex-start;width: 50%;}#sk-container-id-6 div.sk-parallel-item:only-child::after {width: 0;}#sk-container-id-6 div.sk-dashed-wrapped {border: 1px dashed gray;margin: 0 0.4em 0.5em 0.4em;box-sizing: border-box;padding-bottom: 0.4em;background-color: white;}#sk-container-id-6 div.sk-label label {font-family: monospace;font-weight: bold;display: inline-block;line-height: 1.2em;}#sk-container-id-6 div.sk-label-container {text-align: center;}#sk-container-id-6 div.sk-container {/* jupyter's `normalize.less` sets `[hidden] { display: none; }` but bootstrap.min.css set `[hidden] { display: none !important; }` so we also need the `!important` here to be able to override the default hidden behavior on the sphinx rendered scikit-learn.org. See: https://github.com/scikit-learn/scikit-learn/issues/21755 */display: inline-block !important;position: relative;}#sk-container-id-6 div.sk-text-repr-fallback {display: none;}</style><div id=\"sk-container-id-6\" class=\"sk-top-container\"><div class=\"sk-text-repr-fallback\"><pre>Pipeline(steps=[(&#x27;preprocessor&#x27;,\n",
       "                 ColumnTransformer(transformers=[(&#x27;num&#x27;, StandardScaler(),\n",
       "                                                  [&#x27;Age&#x27;, &#x27;Cholesterol&#x27;,\n",
       "                                                   &#x27;Heart Rate&#x27;, &#x27;Diabetes&#x27;,\n",
       "                                                   &#x27;Family History&#x27;, &#x27;Smoking&#x27;,\n",
       "                                                   &#x27;Obesity&#x27;,\n",
       "                                                   &#x27;Alcohol Consumption&#x27;,\n",
       "                                                   &#x27;Exercise Hours Per Week&#x27;,\n",
       "                                                   &#x27;Previous Heart Problems&#x27;,\n",
       "                                                   &#x27;Medication Use&#x27;,\n",
       "                                                   &#x27;Stress Level&#x27;,\n",
       "                                                   &#x27;Sedentary Hours Per Day&#x27;,\n",
       "                                                   &#x27;Income&#x27;, &#x27;BMI&#x27;,\n",
       "                                                   &#x27;Triglycerides&#x27;,\n",
       "                                                   &#x27;Physical Activity Days Per &#x27;\n",
       "                                                   &#x27;Week&#x27;,\n",
       "                                                   &#x27;Sleep Hours Per Day&#x27;]),\n",
       "                                                 (&#x27;cat&#x27;, OneHotEncoder(),\n",
       "                                                  [&#x27;Sex&#x27;, &#x27;Diet&#x27;, &#x27;Country&#x27;,\n",
       "                                                   &#x27;Continent&#x27;,\n",
       "                                                   &#x27;Hemisphere&#x27;])])),\n",
       "                (&#x27;classifier&#x27;, LogisticRegression())])</pre><b>In a Jupyter environment, please rerun this cell to show the HTML representation or trust the notebook. <br />On GitHub, the HTML representation is unable to render, please try loading this page with nbviewer.org.</b></div><div class=\"sk-container\" hidden><div class=\"sk-item sk-dashed-wrapped\"><div class=\"sk-label-container\"><div class=\"sk-label sk-toggleable\"><input class=\"sk-toggleable__control sk-hidden--visually\" id=\"sk-estimator-id-32\" type=\"checkbox\" ><label for=\"sk-estimator-id-32\" class=\"sk-toggleable__label sk-toggleable__label-arrow\">Pipeline</label><div class=\"sk-toggleable__content\"><pre>Pipeline(steps=[(&#x27;preprocessor&#x27;,\n",
       "                 ColumnTransformer(transformers=[(&#x27;num&#x27;, StandardScaler(),\n",
       "                                                  [&#x27;Age&#x27;, &#x27;Cholesterol&#x27;,\n",
       "                                                   &#x27;Heart Rate&#x27;, &#x27;Diabetes&#x27;,\n",
       "                                                   &#x27;Family History&#x27;, &#x27;Smoking&#x27;,\n",
       "                                                   &#x27;Obesity&#x27;,\n",
       "                                                   &#x27;Alcohol Consumption&#x27;,\n",
       "                                                   &#x27;Exercise Hours Per Week&#x27;,\n",
       "                                                   &#x27;Previous Heart Problems&#x27;,\n",
       "                                                   &#x27;Medication Use&#x27;,\n",
       "                                                   &#x27;Stress Level&#x27;,\n",
       "                                                   &#x27;Sedentary Hours Per Day&#x27;,\n",
       "                                                   &#x27;Income&#x27;, &#x27;BMI&#x27;,\n",
       "                                                   &#x27;Triglycerides&#x27;,\n",
       "                                                   &#x27;Physical Activity Days Per &#x27;\n",
       "                                                   &#x27;Week&#x27;,\n",
       "                                                   &#x27;Sleep Hours Per Day&#x27;]),\n",
       "                                                 (&#x27;cat&#x27;, OneHotEncoder(),\n",
       "                                                  [&#x27;Sex&#x27;, &#x27;Diet&#x27;, &#x27;Country&#x27;,\n",
       "                                                   &#x27;Continent&#x27;,\n",
       "                                                   &#x27;Hemisphere&#x27;])])),\n",
       "                (&#x27;classifier&#x27;, LogisticRegression())])</pre></div></div></div><div class=\"sk-serial\"><div class=\"sk-item sk-dashed-wrapped\"><div class=\"sk-label-container\"><div class=\"sk-label sk-toggleable\"><input class=\"sk-toggleable__control sk-hidden--visually\" id=\"sk-estimator-id-33\" type=\"checkbox\" ><label for=\"sk-estimator-id-33\" class=\"sk-toggleable__label sk-toggleable__label-arrow\">preprocessor: ColumnTransformer</label><div class=\"sk-toggleable__content\"><pre>ColumnTransformer(transformers=[(&#x27;num&#x27;, StandardScaler(),\n",
       "                                 [&#x27;Age&#x27;, &#x27;Cholesterol&#x27;, &#x27;Heart Rate&#x27;,\n",
       "                                  &#x27;Diabetes&#x27;, &#x27;Family History&#x27;, &#x27;Smoking&#x27;,\n",
       "                                  &#x27;Obesity&#x27;, &#x27;Alcohol Consumption&#x27;,\n",
       "                                  &#x27;Exercise Hours Per Week&#x27;,\n",
       "                                  &#x27;Previous Heart Problems&#x27;, &#x27;Medication Use&#x27;,\n",
       "                                  &#x27;Stress Level&#x27;, &#x27;Sedentary Hours Per Day&#x27;,\n",
       "                                  &#x27;Income&#x27;, &#x27;BMI&#x27;, &#x27;Triglycerides&#x27;,\n",
       "                                  &#x27;Physical Activity Days Per Week&#x27;,\n",
       "                                  &#x27;Sleep Hours Per Day&#x27;]),\n",
       "                                (&#x27;cat&#x27;, OneHotEncoder(),\n",
       "                                 [&#x27;Sex&#x27;, &#x27;Diet&#x27;, &#x27;Country&#x27;, &#x27;Continent&#x27;,\n",
       "                                  &#x27;Hemisphere&#x27;])])</pre></div></div></div><div class=\"sk-parallel\"><div class=\"sk-parallel-item\"><div class=\"sk-item\"><div class=\"sk-label-container\"><div class=\"sk-label sk-toggleable\"><input class=\"sk-toggleable__control sk-hidden--visually\" id=\"sk-estimator-id-34\" type=\"checkbox\" ><label for=\"sk-estimator-id-34\" class=\"sk-toggleable__label sk-toggleable__label-arrow\">num</label><div class=\"sk-toggleable__content\"><pre>[&#x27;Age&#x27;, &#x27;Cholesterol&#x27;, &#x27;Heart Rate&#x27;, &#x27;Diabetes&#x27;, &#x27;Family History&#x27;, &#x27;Smoking&#x27;, &#x27;Obesity&#x27;, &#x27;Alcohol Consumption&#x27;, &#x27;Exercise Hours Per Week&#x27;, &#x27;Previous Heart Problems&#x27;, &#x27;Medication Use&#x27;, &#x27;Stress Level&#x27;, &#x27;Sedentary Hours Per Day&#x27;, &#x27;Income&#x27;, &#x27;BMI&#x27;, &#x27;Triglycerides&#x27;, &#x27;Physical Activity Days Per Week&#x27;, &#x27;Sleep Hours Per Day&#x27;]</pre></div></div></div><div class=\"sk-serial\"><div class=\"sk-item\"><div class=\"sk-estimator sk-toggleable\"><input class=\"sk-toggleable__control sk-hidden--visually\" id=\"sk-estimator-id-35\" type=\"checkbox\" ><label for=\"sk-estimator-id-35\" class=\"sk-toggleable__label sk-toggleable__label-arrow\">StandardScaler</label><div class=\"sk-toggleable__content\"><pre>StandardScaler()</pre></div></div></div></div></div></div><div class=\"sk-parallel-item\"><div class=\"sk-item\"><div class=\"sk-label-container\"><div class=\"sk-label sk-toggleable\"><input class=\"sk-toggleable__control sk-hidden--visually\" id=\"sk-estimator-id-36\" type=\"checkbox\" ><label for=\"sk-estimator-id-36\" class=\"sk-toggleable__label sk-toggleable__label-arrow\">cat</label><div class=\"sk-toggleable__content\"><pre>[&#x27;Sex&#x27;, &#x27;Diet&#x27;, &#x27;Country&#x27;, &#x27;Continent&#x27;, &#x27;Hemisphere&#x27;]</pre></div></div></div><div class=\"sk-serial\"><div class=\"sk-item\"><div class=\"sk-estimator sk-toggleable\"><input class=\"sk-toggleable__control sk-hidden--visually\" id=\"sk-estimator-id-37\" type=\"checkbox\" ><label for=\"sk-estimator-id-37\" class=\"sk-toggleable__label sk-toggleable__label-arrow\">OneHotEncoder</label><div class=\"sk-toggleable__content\"><pre>OneHotEncoder()</pre></div></div></div></div></div></div></div></div><div class=\"sk-item\"><div class=\"sk-estimator sk-toggleable\"><input class=\"sk-toggleable__control sk-hidden--visually\" id=\"sk-estimator-id-38\" type=\"checkbox\" ><label for=\"sk-estimator-id-38\" class=\"sk-toggleable__label sk-toggleable__label-arrow\">LogisticRegression</label><div class=\"sk-toggleable__content\"><pre>LogisticRegression()</pre></div></div></div></div></div></div></div>"
      ],
      "text/plain": [
       "Pipeline(steps=[('preprocessor',\n",
       "                 ColumnTransformer(transformers=[('num', StandardScaler(),\n",
       "                                                  ['Age', 'Cholesterol',\n",
       "                                                   'Heart Rate', 'Diabetes',\n",
       "                                                   'Family History', 'Smoking',\n",
       "                                                   'Obesity',\n",
       "                                                   'Alcohol Consumption',\n",
       "                                                   'Exercise Hours Per Week',\n",
       "                                                   'Previous Heart Problems',\n",
       "                                                   'Medication Use',\n",
       "                                                   'Stress Level',\n",
       "                                                   'Sedentary Hours Per Day',\n",
       "                                                   'Income', 'BMI',\n",
       "                                                   'Triglycerides',\n",
       "                                                   'Physical Activity Days Per '\n",
       "                                                   'Week',\n",
       "                                                   'Sleep Hours Per Day']),\n",
       "                                                 ('cat', OneHotEncoder(),\n",
       "                                                  ['Sex', 'Diet', 'Country',\n",
       "                                                   'Continent',\n",
       "                                                   'Hemisphere'])])),\n",
       "                ('classifier', LogisticRegression())])"
      ]
     },
     "execution_count": 24,
     "metadata": {},
     "output_type": "execute_result"
    }
   ],
   "source": [
    "# Define the model pipeline\n",
    "model_pipeline = Pipeline(steps=[\n",
    "    ('preprocessor', preprocessor),\n",
    "    ('classifier', LogisticRegression())\n",
    "])\n",
    "\n",
    "model_pipeline"
   ]
  },
  {
   "cell_type": "code",
   "execution_count": 25,
   "id": "46ceb7af-4f91-43d7-88b6-8dc5fa6d7713",
   "metadata": {
    "tags": []
   },
   "outputs": [],
   "source": [
    "# Split the dataset into training and testing sets\n",
    "X_train, X_test, y_train, y_test = train_test_split(X, y, test_size=0.2, random_state=42)"
   ]
  },
  {
   "cell_type": "code",
   "execution_count": 26,
   "id": "2d661b9e-c04c-4e7f-b2cb-1c286cd445a2",
   "metadata": {
    "tags": []
   },
   "outputs": [
    {
     "data": {
      "text/html": [
       "<style>#sk-container-id-7 {color: black;}#sk-container-id-7 pre{padding: 0;}#sk-container-id-7 div.sk-toggleable {background-color: white;}#sk-container-id-7 label.sk-toggleable__label {cursor: pointer;display: block;width: 100%;margin-bottom: 0;padding: 0.3em;box-sizing: border-box;text-align: center;}#sk-container-id-7 label.sk-toggleable__label-arrow:before {content: \"▸\";float: left;margin-right: 0.25em;color: #696969;}#sk-container-id-7 label.sk-toggleable__label-arrow:hover:before {color: black;}#sk-container-id-7 div.sk-estimator:hover label.sk-toggleable__label-arrow:before {color: black;}#sk-container-id-7 div.sk-toggleable__content {max-height: 0;max-width: 0;overflow: hidden;text-align: left;background-color: #f0f8ff;}#sk-container-id-7 div.sk-toggleable__content pre {margin: 0.2em;color: black;border-radius: 0.25em;background-color: #f0f8ff;}#sk-container-id-7 input.sk-toggleable__control:checked~div.sk-toggleable__content {max-height: 200px;max-width: 100%;overflow: auto;}#sk-container-id-7 input.sk-toggleable__control:checked~label.sk-toggleable__label-arrow:before {content: \"▾\";}#sk-container-id-7 div.sk-estimator input.sk-toggleable__control:checked~label.sk-toggleable__label {background-color: #d4ebff;}#sk-container-id-7 div.sk-label input.sk-toggleable__control:checked~label.sk-toggleable__label {background-color: #d4ebff;}#sk-container-id-7 input.sk-hidden--visually {border: 0;clip: rect(1px 1px 1px 1px);clip: rect(1px, 1px, 1px, 1px);height: 1px;margin: -1px;overflow: hidden;padding: 0;position: absolute;width: 1px;}#sk-container-id-7 div.sk-estimator {font-family: monospace;background-color: #f0f8ff;border: 1px dotted black;border-radius: 0.25em;box-sizing: border-box;margin-bottom: 0.5em;}#sk-container-id-7 div.sk-estimator:hover {background-color: #d4ebff;}#sk-container-id-7 div.sk-parallel-item::after {content: \"\";width: 100%;border-bottom: 1px solid gray;flex-grow: 1;}#sk-container-id-7 div.sk-label:hover label.sk-toggleable__label {background-color: #d4ebff;}#sk-container-id-7 div.sk-serial::before {content: \"\";position: absolute;border-left: 1px solid gray;box-sizing: border-box;top: 0;bottom: 0;left: 50%;z-index: 0;}#sk-container-id-7 div.sk-serial {display: flex;flex-direction: column;align-items: center;background-color: white;padding-right: 0.2em;padding-left: 0.2em;position: relative;}#sk-container-id-7 div.sk-item {position: relative;z-index: 1;}#sk-container-id-7 div.sk-parallel {display: flex;align-items: stretch;justify-content: center;background-color: white;position: relative;}#sk-container-id-7 div.sk-item::before, #sk-container-id-7 div.sk-parallel-item::before {content: \"\";position: absolute;border-left: 1px solid gray;box-sizing: border-box;top: 0;bottom: 0;left: 50%;z-index: -1;}#sk-container-id-7 div.sk-parallel-item {display: flex;flex-direction: column;z-index: 1;position: relative;background-color: white;}#sk-container-id-7 div.sk-parallel-item:first-child::after {align-self: flex-end;width: 50%;}#sk-container-id-7 div.sk-parallel-item:last-child::after {align-self: flex-start;width: 50%;}#sk-container-id-7 div.sk-parallel-item:only-child::after {width: 0;}#sk-container-id-7 div.sk-dashed-wrapped {border: 1px dashed gray;margin: 0 0.4em 0.5em 0.4em;box-sizing: border-box;padding-bottom: 0.4em;background-color: white;}#sk-container-id-7 div.sk-label label {font-family: monospace;font-weight: bold;display: inline-block;line-height: 1.2em;}#sk-container-id-7 div.sk-label-container {text-align: center;}#sk-container-id-7 div.sk-container {/* jupyter's `normalize.less` sets `[hidden] { display: none; }` but bootstrap.min.css set `[hidden] { display: none !important; }` so we also need the `!important` here to be able to override the default hidden behavior on the sphinx rendered scikit-learn.org. See: https://github.com/scikit-learn/scikit-learn/issues/21755 */display: inline-block !important;position: relative;}#sk-container-id-7 div.sk-text-repr-fallback {display: none;}</style><div id=\"sk-container-id-7\" class=\"sk-top-container\"><div class=\"sk-text-repr-fallback\"><pre>Pipeline(steps=[(&#x27;preprocessor&#x27;,\n",
       "                 ColumnTransformer(transformers=[(&#x27;num&#x27;, StandardScaler(),\n",
       "                                                  [&#x27;Age&#x27;, &#x27;Cholesterol&#x27;,\n",
       "                                                   &#x27;Heart Rate&#x27;, &#x27;Diabetes&#x27;,\n",
       "                                                   &#x27;Family History&#x27;, &#x27;Smoking&#x27;,\n",
       "                                                   &#x27;Obesity&#x27;,\n",
       "                                                   &#x27;Alcohol Consumption&#x27;,\n",
       "                                                   &#x27;Exercise Hours Per Week&#x27;,\n",
       "                                                   &#x27;Previous Heart Problems&#x27;,\n",
       "                                                   &#x27;Medication Use&#x27;,\n",
       "                                                   &#x27;Stress Level&#x27;,\n",
       "                                                   &#x27;Sedentary Hours Per Day&#x27;,\n",
       "                                                   &#x27;Income&#x27;, &#x27;BMI&#x27;,\n",
       "                                                   &#x27;Triglycerides&#x27;,\n",
       "                                                   &#x27;Physical Activity Days Per &#x27;\n",
       "                                                   &#x27;Week&#x27;,\n",
       "                                                   &#x27;Sleep Hours Per Day&#x27;]),\n",
       "                                                 (&#x27;cat&#x27;, OneHotEncoder(),\n",
       "                                                  [&#x27;Sex&#x27;, &#x27;Diet&#x27;, &#x27;Country&#x27;,\n",
       "                                                   &#x27;Continent&#x27;,\n",
       "                                                   &#x27;Hemisphere&#x27;])])),\n",
       "                (&#x27;classifier&#x27;, LogisticRegression())])</pre><b>In a Jupyter environment, please rerun this cell to show the HTML representation or trust the notebook. <br />On GitHub, the HTML representation is unable to render, please try loading this page with nbviewer.org.</b></div><div class=\"sk-container\" hidden><div class=\"sk-item sk-dashed-wrapped\"><div class=\"sk-label-container\"><div class=\"sk-label sk-toggleable\"><input class=\"sk-toggleable__control sk-hidden--visually\" id=\"sk-estimator-id-39\" type=\"checkbox\" ><label for=\"sk-estimator-id-39\" class=\"sk-toggleable__label sk-toggleable__label-arrow\">Pipeline</label><div class=\"sk-toggleable__content\"><pre>Pipeline(steps=[(&#x27;preprocessor&#x27;,\n",
       "                 ColumnTransformer(transformers=[(&#x27;num&#x27;, StandardScaler(),\n",
       "                                                  [&#x27;Age&#x27;, &#x27;Cholesterol&#x27;,\n",
       "                                                   &#x27;Heart Rate&#x27;, &#x27;Diabetes&#x27;,\n",
       "                                                   &#x27;Family History&#x27;, &#x27;Smoking&#x27;,\n",
       "                                                   &#x27;Obesity&#x27;,\n",
       "                                                   &#x27;Alcohol Consumption&#x27;,\n",
       "                                                   &#x27;Exercise Hours Per Week&#x27;,\n",
       "                                                   &#x27;Previous Heart Problems&#x27;,\n",
       "                                                   &#x27;Medication Use&#x27;,\n",
       "                                                   &#x27;Stress Level&#x27;,\n",
       "                                                   &#x27;Sedentary Hours Per Day&#x27;,\n",
       "                                                   &#x27;Income&#x27;, &#x27;BMI&#x27;,\n",
       "                                                   &#x27;Triglycerides&#x27;,\n",
       "                                                   &#x27;Physical Activity Days Per &#x27;\n",
       "                                                   &#x27;Week&#x27;,\n",
       "                                                   &#x27;Sleep Hours Per Day&#x27;]),\n",
       "                                                 (&#x27;cat&#x27;, OneHotEncoder(),\n",
       "                                                  [&#x27;Sex&#x27;, &#x27;Diet&#x27;, &#x27;Country&#x27;,\n",
       "                                                   &#x27;Continent&#x27;,\n",
       "                                                   &#x27;Hemisphere&#x27;])])),\n",
       "                (&#x27;classifier&#x27;, LogisticRegression())])</pre></div></div></div><div class=\"sk-serial\"><div class=\"sk-item sk-dashed-wrapped\"><div class=\"sk-label-container\"><div class=\"sk-label sk-toggleable\"><input class=\"sk-toggleable__control sk-hidden--visually\" id=\"sk-estimator-id-40\" type=\"checkbox\" ><label for=\"sk-estimator-id-40\" class=\"sk-toggleable__label sk-toggleable__label-arrow\">preprocessor: ColumnTransformer</label><div class=\"sk-toggleable__content\"><pre>ColumnTransformer(transformers=[(&#x27;num&#x27;, StandardScaler(),\n",
       "                                 [&#x27;Age&#x27;, &#x27;Cholesterol&#x27;, &#x27;Heart Rate&#x27;,\n",
       "                                  &#x27;Diabetes&#x27;, &#x27;Family History&#x27;, &#x27;Smoking&#x27;,\n",
       "                                  &#x27;Obesity&#x27;, &#x27;Alcohol Consumption&#x27;,\n",
       "                                  &#x27;Exercise Hours Per Week&#x27;,\n",
       "                                  &#x27;Previous Heart Problems&#x27;, &#x27;Medication Use&#x27;,\n",
       "                                  &#x27;Stress Level&#x27;, &#x27;Sedentary Hours Per Day&#x27;,\n",
       "                                  &#x27;Income&#x27;, &#x27;BMI&#x27;, &#x27;Triglycerides&#x27;,\n",
       "                                  &#x27;Physical Activity Days Per Week&#x27;,\n",
       "                                  &#x27;Sleep Hours Per Day&#x27;]),\n",
       "                                (&#x27;cat&#x27;, OneHotEncoder(),\n",
       "                                 [&#x27;Sex&#x27;, &#x27;Diet&#x27;, &#x27;Country&#x27;, &#x27;Continent&#x27;,\n",
       "                                  &#x27;Hemisphere&#x27;])])</pre></div></div></div><div class=\"sk-parallel\"><div class=\"sk-parallel-item\"><div class=\"sk-item\"><div class=\"sk-label-container\"><div class=\"sk-label sk-toggleable\"><input class=\"sk-toggleable__control sk-hidden--visually\" id=\"sk-estimator-id-41\" type=\"checkbox\" ><label for=\"sk-estimator-id-41\" class=\"sk-toggleable__label sk-toggleable__label-arrow\">num</label><div class=\"sk-toggleable__content\"><pre>[&#x27;Age&#x27;, &#x27;Cholesterol&#x27;, &#x27;Heart Rate&#x27;, &#x27;Diabetes&#x27;, &#x27;Family History&#x27;, &#x27;Smoking&#x27;, &#x27;Obesity&#x27;, &#x27;Alcohol Consumption&#x27;, &#x27;Exercise Hours Per Week&#x27;, &#x27;Previous Heart Problems&#x27;, &#x27;Medication Use&#x27;, &#x27;Stress Level&#x27;, &#x27;Sedentary Hours Per Day&#x27;, &#x27;Income&#x27;, &#x27;BMI&#x27;, &#x27;Triglycerides&#x27;, &#x27;Physical Activity Days Per Week&#x27;, &#x27;Sleep Hours Per Day&#x27;]</pre></div></div></div><div class=\"sk-serial\"><div class=\"sk-item\"><div class=\"sk-estimator sk-toggleable\"><input class=\"sk-toggleable__control sk-hidden--visually\" id=\"sk-estimator-id-42\" type=\"checkbox\" ><label for=\"sk-estimator-id-42\" class=\"sk-toggleable__label sk-toggleable__label-arrow\">StandardScaler</label><div class=\"sk-toggleable__content\"><pre>StandardScaler()</pre></div></div></div></div></div></div><div class=\"sk-parallel-item\"><div class=\"sk-item\"><div class=\"sk-label-container\"><div class=\"sk-label sk-toggleable\"><input class=\"sk-toggleable__control sk-hidden--visually\" id=\"sk-estimator-id-43\" type=\"checkbox\" ><label for=\"sk-estimator-id-43\" class=\"sk-toggleable__label sk-toggleable__label-arrow\">cat</label><div class=\"sk-toggleable__content\"><pre>[&#x27;Sex&#x27;, &#x27;Diet&#x27;, &#x27;Country&#x27;, &#x27;Continent&#x27;, &#x27;Hemisphere&#x27;]</pre></div></div></div><div class=\"sk-serial\"><div class=\"sk-item\"><div class=\"sk-estimator sk-toggleable\"><input class=\"sk-toggleable__control sk-hidden--visually\" id=\"sk-estimator-id-44\" type=\"checkbox\" ><label for=\"sk-estimator-id-44\" class=\"sk-toggleable__label sk-toggleable__label-arrow\">OneHotEncoder</label><div class=\"sk-toggleable__content\"><pre>OneHotEncoder()</pre></div></div></div></div></div></div></div></div><div class=\"sk-item\"><div class=\"sk-estimator sk-toggleable\"><input class=\"sk-toggleable__control sk-hidden--visually\" id=\"sk-estimator-id-45\" type=\"checkbox\" ><label for=\"sk-estimator-id-45\" class=\"sk-toggleable__label sk-toggleable__label-arrow\">LogisticRegression</label><div class=\"sk-toggleable__content\"><pre>LogisticRegression()</pre></div></div></div></div></div></div></div>"
      ],
      "text/plain": [
       "Pipeline(steps=[('preprocessor',\n",
       "                 ColumnTransformer(transformers=[('num', StandardScaler(),\n",
       "                                                  ['Age', 'Cholesterol',\n",
       "                                                   'Heart Rate', 'Diabetes',\n",
       "                                                   'Family History', 'Smoking',\n",
       "                                                   'Obesity',\n",
       "                                                   'Alcohol Consumption',\n",
       "                                                   'Exercise Hours Per Week',\n",
       "                                                   'Previous Heart Problems',\n",
       "                                                   'Medication Use',\n",
       "                                                   'Stress Level',\n",
       "                                                   'Sedentary Hours Per Day',\n",
       "                                                   'Income', 'BMI',\n",
       "                                                   'Triglycerides',\n",
       "                                                   'Physical Activity Days Per '\n",
       "                                                   'Week',\n",
       "                                                   'Sleep Hours Per Day']),\n",
       "                                                 ('cat', OneHotEncoder(),\n",
       "                                                  ['Sex', 'Diet', 'Country',\n",
       "                                                   'Continent',\n",
       "                                                   'Hemisphere'])])),\n",
       "                ('classifier', LogisticRegression())])"
      ]
     },
     "execution_count": 26,
     "metadata": {},
     "output_type": "execute_result"
    }
   ],
   "source": [
    "# Train the model\n",
    "model_pipeline.fit(X_train, y_train)"
   ]
  },
  {
   "cell_type": "code",
   "execution_count": 27,
   "id": "d1178545-dc38-4c4c-a507-c543ed3404b2",
   "metadata": {
    "tags": []
   },
   "outputs": [],
   "source": [
    "# Predictions\n",
    "y_pred = model_pipeline.predict(X_test)"
   ]
  },
  {
   "cell_type": "code",
   "execution_count": 28,
   "id": "79e7c2ec-4ce1-4554-98c9-c5d016c3e90a",
   "metadata": {
    "tags": []
   },
   "outputs": [
    {
     "name": "stdout",
     "output_type": "stream",
     "text": [
      "Accuracy: 64.18%\n",
      "              precision    recall  f1-score   support\n",
      "\n",
      "           0       0.64      1.00      0.78      1125\n",
      "           1       0.00      0.00      0.00       628\n",
      "\n",
      "    accuracy                           0.64      1753\n",
      "   macro avg       0.32      0.50      0.39      1753\n",
      "weighted avg       0.41      0.64      0.50      1753\n",
      "\n"
     ]
    },
    {
     "name": "stderr",
     "output_type": "stream",
     "text": [
      "c:\\Users\\soria\\anaconda3\\envs\\PythonData_2023_08\\lib\\site-packages\\sklearn\\metrics\\_classification.py:1469: UndefinedMetricWarning: Precision and F-score are ill-defined and being set to 0.0 in labels with no predicted samples. Use `zero_division` parameter to control this behavior.\n",
      "  _warn_prf(average, modifier, msg_start, len(result))\n",
      "c:\\Users\\soria\\anaconda3\\envs\\PythonData_2023_08\\lib\\site-packages\\sklearn\\metrics\\_classification.py:1469: UndefinedMetricWarning: Precision and F-score are ill-defined and being set to 0.0 in labels with no predicted samples. Use `zero_division` parameter to control this behavior.\n",
      "  _warn_prf(average, modifier, msg_start, len(result))\n",
      "c:\\Users\\soria\\anaconda3\\envs\\PythonData_2023_08\\lib\\site-packages\\sklearn\\metrics\\_classification.py:1469: UndefinedMetricWarning: Precision and F-score are ill-defined and being set to 0.0 in labels with no predicted samples. Use `zero_division` parameter to control this behavior.\n",
      "  _warn_prf(average, modifier, msg_start, len(result))\n"
     ]
    }
   ],
   "source": [
    "# Evaluate the model\n",
    "accuracy = accuracy_score(y_test, y_pred)\n",
    "print(f\"Accuracy: {accuracy*100:.2f}%\")\n",
    "print(classification_report(y_test, y_pred))"
   ]
  },
  {
   "cell_type": "code",
   "execution_count": 29,
   "id": "af736442",
   "metadata": {},
   "outputs": [
    {
     "name": "stdout",
     "output_type": "stream",
     "text": [
      "Before oversampling: Counter({0: 5624, 1: 3139})\n",
      "After oversampling: Counter({0: 5624, 1: 5624})\n"
     ]
    }
   ],
   "source": [
    "from collections import Counter\n",
    "from imblearn.over_sampling import RandomOverSampler\n",
    "\n",
    "# Assuming you have your data in X and y arrays\n",
    "# X contains your features, and y contains your labels (0 or 1)\n",
    "\n",
    "# Check the distribution of classes before oversampling\n",
    "print(\"Before oversampling:\", Counter(y))\n",
    "\n",
    "# Define the oversampler with 'minority' sampling strategy\n",
    "oversampler = RandomOverSampler(sampling_strategy='minority', random_state=42)\n",
    "\n",
    "# Oversample the minority class (class 1)\n",
    "X_resampled, y_resampled = oversampler.fit_resample(X, y)\n",
    "\n",
    "# Check the distribution of classes after oversampling\n",
    "print(\"After oversampling:\", Counter(y_resampled))\n"
   ]
  },
  {
   "cell_type": "code",
   "execution_count": 30,
   "id": "2b568539",
   "metadata": {},
   "outputs": [],
   "source": [
    "# Split the dataset into training and testing sets\n",
    "X_train, X_test, y_train, y_test = train_test_split(X_resampled, y_resampled, test_size=0.2, random_state=42)"
   ]
  },
  {
   "cell_type": "code",
   "execution_count": 31,
   "id": "a61da841",
   "metadata": {},
   "outputs": [
    {
     "data": {
      "text/html": [
       "<style>#sk-container-id-8 {color: black;}#sk-container-id-8 pre{padding: 0;}#sk-container-id-8 div.sk-toggleable {background-color: white;}#sk-container-id-8 label.sk-toggleable__label {cursor: pointer;display: block;width: 100%;margin-bottom: 0;padding: 0.3em;box-sizing: border-box;text-align: center;}#sk-container-id-8 label.sk-toggleable__label-arrow:before {content: \"▸\";float: left;margin-right: 0.25em;color: #696969;}#sk-container-id-8 label.sk-toggleable__label-arrow:hover:before {color: black;}#sk-container-id-8 div.sk-estimator:hover label.sk-toggleable__label-arrow:before {color: black;}#sk-container-id-8 div.sk-toggleable__content {max-height: 0;max-width: 0;overflow: hidden;text-align: left;background-color: #f0f8ff;}#sk-container-id-8 div.sk-toggleable__content pre {margin: 0.2em;color: black;border-radius: 0.25em;background-color: #f0f8ff;}#sk-container-id-8 input.sk-toggleable__control:checked~div.sk-toggleable__content {max-height: 200px;max-width: 100%;overflow: auto;}#sk-container-id-8 input.sk-toggleable__control:checked~label.sk-toggleable__label-arrow:before {content: \"▾\";}#sk-container-id-8 div.sk-estimator input.sk-toggleable__control:checked~label.sk-toggleable__label {background-color: #d4ebff;}#sk-container-id-8 div.sk-label input.sk-toggleable__control:checked~label.sk-toggleable__label {background-color: #d4ebff;}#sk-container-id-8 input.sk-hidden--visually {border: 0;clip: rect(1px 1px 1px 1px);clip: rect(1px, 1px, 1px, 1px);height: 1px;margin: -1px;overflow: hidden;padding: 0;position: absolute;width: 1px;}#sk-container-id-8 div.sk-estimator {font-family: monospace;background-color: #f0f8ff;border: 1px dotted black;border-radius: 0.25em;box-sizing: border-box;margin-bottom: 0.5em;}#sk-container-id-8 div.sk-estimator:hover {background-color: #d4ebff;}#sk-container-id-8 div.sk-parallel-item::after {content: \"\";width: 100%;border-bottom: 1px solid gray;flex-grow: 1;}#sk-container-id-8 div.sk-label:hover label.sk-toggleable__label {background-color: #d4ebff;}#sk-container-id-8 div.sk-serial::before {content: \"\";position: absolute;border-left: 1px solid gray;box-sizing: border-box;top: 0;bottom: 0;left: 50%;z-index: 0;}#sk-container-id-8 div.sk-serial {display: flex;flex-direction: column;align-items: center;background-color: white;padding-right: 0.2em;padding-left: 0.2em;position: relative;}#sk-container-id-8 div.sk-item {position: relative;z-index: 1;}#sk-container-id-8 div.sk-parallel {display: flex;align-items: stretch;justify-content: center;background-color: white;position: relative;}#sk-container-id-8 div.sk-item::before, #sk-container-id-8 div.sk-parallel-item::before {content: \"\";position: absolute;border-left: 1px solid gray;box-sizing: border-box;top: 0;bottom: 0;left: 50%;z-index: -1;}#sk-container-id-8 div.sk-parallel-item {display: flex;flex-direction: column;z-index: 1;position: relative;background-color: white;}#sk-container-id-8 div.sk-parallel-item:first-child::after {align-self: flex-end;width: 50%;}#sk-container-id-8 div.sk-parallel-item:last-child::after {align-self: flex-start;width: 50%;}#sk-container-id-8 div.sk-parallel-item:only-child::after {width: 0;}#sk-container-id-8 div.sk-dashed-wrapped {border: 1px dashed gray;margin: 0 0.4em 0.5em 0.4em;box-sizing: border-box;padding-bottom: 0.4em;background-color: white;}#sk-container-id-8 div.sk-label label {font-family: monospace;font-weight: bold;display: inline-block;line-height: 1.2em;}#sk-container-id-8 div.sk-label-container {text-align: center;}#sk-container-id-8 div.sk-container {/* jupyter's `normalize.less` sets `[hidden] { display: none; }` but bootstrap.min.css set `[hidden] { display: none !important; }` so we also need the `!important` here to be able to override the default hidden behavior on the sphinx rendered scikit-learn.org. See: https://github.com/scikit-learn/scikit-learn/issues/21755 */display: inline-block !important;position: relative;}#sk-container-id-8 div.sk-text-repr-fallback {display: none;}</style><div id=\"sk-container-id-8\" class=\"sk-top-container\"><div class=\"sk-text-repr-fallback\"><pre>Pipeline(steps=[(&#x27;preprocessor&#x27;,\n",
       "                 ColumnTransformer(transformers=[(&#x27;num&#x27;, StandardScaler(),\n",
       "                                                  [&#x27;Age&#x27;, &#x27;Cholesterol&#x27;,\n",
       "                                                   &#x27;Heart Rate&#x27;, &#x27;Diabetes&#x27;,\n",
       "                                                   &#x27;Family History&#x27;, &#x27;Smoking&#x27;,\n",
       "                                                   &#x27;Obesity&#x27;,\n",
       "                                                   &#x27;Alcohol Consumption&#x27;,\n",
       "                                                   &#x27;Exercise Hours Per Week&#x27;,\n",
       "                                                   &#x27;Previous Heart Problems&#x27;,\n",
       "                                                   &#x27;Medication Use&#x27;,\n",
       "                                                   &#x27;Stress Level&#x27;,\n",
       "                                                   &#x27;Sedentary Hours Per Day&#x27;,\n",
       "                                                   &#x27;Income&#x27;, &#x27;BMI&#x27;,\n",
       "                                                   &#x27;Triglycerides&#x27;,\n",
       "                                                   &#x27;Physical Activity Days Per &#x27;\n",
       "                                                   &#x27;Week&#x27;,\n",
       "                                                   &#x27;Sleep Hours Per Day&#x27;]),\n",
       "                                                 (&#x27;cat&#x27;, OneHotEncoder(),\n",
       "                                                  [&#x27;Sex&#x27;, &#x27;Diet&#x27;, &#x27;Country&#x27;,\n",
       "                                                   &#x27;Continent&#x27;,\n",
       "                                                   &#x27;Hemisphere&#x27;])])),\n",
       "                (&#x27;classifier&#x27;, LogisticRegression())])</pre><b>In a Jupyter environment, please rerun this cell to show the HTML representation or trust the notebook. <br />On GitHub, the HTML representation is unable to render, please try loading this page with nbviewer.org.</b></div><div class=\"sk-container\" hidden><div class=\"sk-item sk-dashed-wrapped\"><div class=\"sk-label-container\"><div class=\"sk-label sk-toggleable\"><input class=\"sk-toggleable__control sk-hidden--visually\" id=\"sk-estimator-id-46\" type=\"checkbox\" ><label for=\"sk-estimator-id-46\" class=\"sk-toggleable__label sk-toggleable__label-arrow\">Pipeline</label><div class=\"sk-toggleable__content\"><pre>Pipeline(steps=[(&#x27;preprocessor&#x27;,\n",
       "                 ColumnTransformer(transformers=[(&#x27;num&#x27;, StandardScaler(),\n",
       "                                                  [&#x27;Age&#x27;, &#x27;Cholesterol&#x27;,\n",
       "                                                   &#x27;Heart Rate&#x27;, &#x27;Diabetes&#x27;,\n",
       "                                                   &#x27;Family History&#x27;, &#x27;Smoking&#x27;,\n",
       "                                                   &#x27;Obesity&#x27;,\n",
       "                                                   &#x27;Alcohol Consumption&#x27;,\n",
       "                                                   &#x27;Exercise Hours Per Week&#x27;,\n",
       "                                                   &#x27;Previous Heart Problems&#x27;,\n",
       "                                                   &#x27;Medication Use&#x27;,\n",
       "                                                   &#x27;Stress Level&#x27;,\n",
       "                                                   &#x27;Sedentary Hours Per Day&#x27;,\n",
       "                                                   &#x27;Income&#x27;, &#x27;BMI&#x27;,\n",
       "                                                   &#x27;Triglycerides&#x27;,\n",
       "                                                   &#x27;Physical Activity Days Per &#x27;\n",
       "                                                   &#x27;Week&#x27;,\n",
       "                                                   &#x27;Sleep Hours Per Day&#x27;]),\n",
       "                                                 (&#x27;cat&#x27;, OneHotEncoder(),\n",
       "                                                  [&#x27;Sex&#x27;, &#x27;Diet&#x27;, &#x27;Country&#x27;,\n",
       "                                                   &#x27;Continent&#x27;,\n",
       "                                                   &#x27;Hemisphere&#x27;])])),\n",
       "                (&#x27;classifier&#x27;, LogisticRegression())])</pre></div></div></div><div class=\"sk-serial\"><div class=\"sk-item sk-dashed-wrapped\"><div class=\"sk-label-container\"><div class=\"sk-label sk-toggleable\"><input class=\"sk-toggleable__control sk-hidden--visually\" id=\"sk-estimator-id-47\" type=\"checkbox\" ><label for=\"sk-estimator-id-47\" class=\"sk-toggleable__label sk-toggleable__label-arrow\">preprocessor: ColumnTransformer</label><div class=\"sk-toggleable__content\"><pre>ColumnTransformer(transformers=[(&#x27;num&#x27;, StandardScaler(),\n",
       "                                 [&#x27;Age&#x27;, &#x27;Cholesterol&#x27;, &#x27;Heart Rate&#x27;,\n",
       "                                  &#x27;Diabetes&#x27;, &#x27;Family History&#x27;, &#x27;Smoking&#x27;,\n",
       "                                  &#x27;Obesity&#x27;, &#x27;Alcohol Consumption&#x27;,\n",
       "                                  &#x27;Exercise Hours Per Week&#x27;,\n",
       "                                  &#x27;Previous Heart Problems&#x27;, &#x27;Medication Use&#x27;,\n",
       "                                  &#x27;Stress Level&#x27;, &#x27;Sedentary Hours Per Day&#x27;,\n",
       "                                  &#x27;Income&#x27;, &#x27;BMI&#x27;, &#x27;Triglycerides&#x27;,\n",
       "                                  &#x27;Physical Activity Days Per Week&#x27;,\n",
       "                                  &#x27;Sleep Hours Per Day&#x27;]),\n",
       "                                (&#x27;cat&#x27;, OneHotEncoder(),\n",
       "                                 [&#x27;Sex&#x27;, &#x27;Diet&#x27;, &#x27;Country&#x27;, &#x27;Continent&#x27;,\n",
       "                                  &#x27;Hemisphere&#x27;])])</pre></div></div></div><div class=\"sk-parallel\"><div class=\"sk-parallel-item\"><div class=\"sk-item\"><div class=\"sk-label-container\"><div class=\"sk-label sk-toggleable\"><input class=\"sk-toggleable__control sk-hidden--visually\" id=\"sk-estimator-id-48\" type=\"checkbox\" ><label for=\"sk-estimator-id-48\" class=\"sk-toggleable__label sk-toggleable__label-arrow\">num</label><div class=\"sk-toggleable__content\"><pre>[&#x27;Age&#x27;, &#x27;Cholesterol&#x27;, &#x27;Heart Rate&#x27;, &#x27;Diabetes&#x27;, &#x27;Family History&#x27;, &#x27;Smoking&#x27;, &#x27;Obesity&#x27;, &#x27;Alcohol Consumption&#x27;, &#x27;Exercise Hours Per Week&#x27;, &#x27;Previous Heart Problems&#x27;, &#x27;Medication Use&#x27;, &#x27;Stress Level&#x27;, &#x27;Sedentary Hours Per Day&#x27;, &#x27;Income&#x27;, &#x27;BMI&#x27;, &#x27;Triglycerides&#x27;, &#x27;Physical Activity Days Per Week&#x27;, &#x27;Sleep Hours Per Day&#x27;]</pre></div></div></div><div class=\"sk-serial\"><div class=\"sk-item\"><div class=\"sk-estimator sk-toggleable\"><input class=\"sk-toggleable__control sk-hidden--visually\" id=\"sk-estimator-id-49\" type=\"checkbox\" ><label for=\"sk-estimator-id-49\" class=\"sk-toggleable__label sk-toggleable__label-arrow\">StandardScaler</label><div class=\"sk-toggleable__content\"><pre>StandardScaler()</pre></div></div></div></div></div></div><div class=\"sk-parallel-item\"><div class=\"sk-item\"><div class=\"sk-label-container\"><div class=\"sk-label sk-toggleable\"><input class=\"sk-toggleable__control sk-hidden--visually\" id=\"sk-estimator-id-50\" type=\"checkbox\" ><label for=\"sk-estimator-id-50\" class=\"sk-toggleable__label sk-toggleable__label-arrow\">cat</label><div class=\"sk-toggleable__content\"><pre>[&#x27;Sex&#x27;, &#x27;Diet&#x27;, &#x27;Country&#x27;, &#x27;Continent&#x27;, &#x27;Hemisphere&#x27;]</pre></div></div></div><div class=\"sk-serial\"><div class=\"sk-item\"><div class=\"sk-estimator sk-toggleable\"><input class=\"sk-toggleable__control sk-hidden--visually\" id=\"sk-estimator-id-51\" type=\"checkbox\" ><label for=\"sk-estimator-id-51\" class=\"sk-toggleable__label sk-toggleable__label-arrow\">OneHotEncoder</label><div class=\"sk-toggleable__content\"><pre>OneHotEncoder()</pre></div></div></div></div></div></div></div></div><div class=\"sk-item\"><div class=\"sk-estimator sk-toggleable\"><input class=\"sk-toggleable__control sk-hidden--visually\" id=\"sk-estimator-id-52\" type=\"checkbox\" ><label for=\"sk-estimator-id-52\" class=\"sk-toggleable__label sk-toggleable__label-arrow\">LogisticRegression</label><div class=\"sk-toggleable__content\"><pre>LogisticRegression()</pre></div></div></div></div></div></div></div>"
      ],
      "text/plain": [
       "Pipeline(steps=[('preprocessor',\n",
       "                 ColumnTransformer(transformers=[('num', StandardScaler(),\n",
       "                                                  ['Age', 'Cholesterol',\n",
       "                                                   'Heart Rate', 'Diabetes',\n",
       "                                                   'Family History', 'Smoking',\n",
       "                                                   'Obesity',\n",
       "                                                   'Alcohol Consumption',\n",
       "                                                   'Exercise Hours Per Week',\n",
       "                                                   'Previous Heart Problems',\n",
       "                                                   'Medication Use',\n",
       "                                                   'Stress Level',\n",
       "                                                   'Sedentary Hours Per Day',\n",
       "                                                   'Income', 'BMI',\n",
       "                                                   'Triglycerides',\n",
       "                                                   'Physical Activity Days Per '\n",
       "                                                   'Week',\n",
       "                                                   'Sleep Hours Per Day']),\n",
       "                                                 ('cat', OneHotEncoder(),\n",
       "                                                  ['Sex', 'Diet', 'Country',\n",
       "                                                   'Continent',\n",
       "                                                   'Hemisphere'])])),\n",
       "                ('classifier', LogisticRegression())])"
      ]
     },
     "execution_count": 31,
     "metadata": {},
     "output_type": "execute_result"
    }
   ],
   "source": [
    "# Train the model\n",
    "model_pipeline.fit(X_train, y_train)"
   ]
  },
  {
   "cell_type": "code",
   "execution_count": 32,
   "id": "e8f282dd",
   "metadata": {},
   "outputs": [],
   "source": [
    "# Predictions\n",
    "y_pred = model_pipeline.predict(X_test)"
   ]
  },
  {
   "cell_type": "code",
   "execution_count": 33,
   "id": "3ce8d012",
   "metadata": {},
   "outputs": [
    {
     "name": "stdout",
     "output_type": "stream",
     "text": [
      "Accuracy: 49.96%\n",
      "              precision    recall  f1-score   support\n",
      "\n",
      "           0       0.50      0.51      0.50      1120\n",
      "           1       0.50      0.49      0.49      1130\n",
      "\n",
      "    accuracy                           0.50      2250\n",
      "   macro avg       0.50      0.50      0.50      2250\n",
      "weighted avg       0.50      0.50      0.50      2250\n",
      "\n"
     ]
    }
   ],
   "source": [
    "# Evaluate the model\n",
    "accuracy = accuracy_score(y_test, y_pred)\n",
    "print(f\"Accuracy: {accuracy*100:.2f}%\")\n",
    "print(classification_report(y_test, y_pred))"
   ]
  },
  {
   "cell_type": "markdown",
   "id": "fbe59087",
   "metadata": {},
   "source": [
    "RANDOM FOREST MODEL"
   ]
  },
  {
   "cell_type": "code",
   "execution_count": 34,
   "id": "38aef1da-6cba-4ae3-b2e3-865971630033",
   "metadata": {
    "tags": []
   },
   "outputs": [],
   "source": [
    "from sklearn.ensemble import RandomForestClassifier"
   ]
  },
  {
   "cell_type": "code",
   "execution_count": 35,
   "id": "7c58dba1-cc29-4625-95d1-00cd8587911b",
   "metadata": {
    "tags": []
   },
   "outputs": [],
   "source": [
    "# Define the Random Forest model pipeline\n",
    "rf_pipeline = Pipeline(steps=[\n",
    "    ('preprocessor', preprocessor),\n",
    "    ('classifier', RandomForestClassifier(random_state=42))\n",
    "])"
   ]
  },
  {
   "cell_type": "code",
   "execution_count": 36,
   "id": "88182098-31c4-4aa3-9b3d-61724112c6b9",
   "metadata": {
    "tags": []
   },
   "outputs": [],
   "source": [
    "# Train the Random Forest model\n",
    "pipeline = rf_pipeline.fit(X_train, y_train)\n",
    "\n",
    "# Predictions\n",
    "y_pred_rf = rf_pipeline.predict(X_test)"
   ]
  },
  {
   "cell_type": "code",
   "execution_count": 37,
   "id": "5c71984b-866b-445f-a070-7ef6194c0e22",
   "metadata": {
    "tags": []
   },
   "outputs": [
    {
     "name": "stdout",
     "output_type": "stream",
     "text": [
      "Random Forest Accuracy: 79.16%\n",
      "              precision    recall  f1-score   support\n",
      "\n",
      "           0       0.74      0.89      0.81      1120\n",
      "           1       0.86      0.69      0.77      1130\n",
      "\n",
      "    accuracy                           0.79      2250\n",
      "   macro avg       0.80      0.79      0.79      2250\n",
      "weighted avg       0.80      0.79      0.79      2250\n",
      "\n"
     ]
    }
   ],
   "source": [
    "# Evaluate the Random Forest model\n",
    "accuracy_rf = accuracy_score(y_test, y_pred_rf)\n",
    "print(f\"Random Forest Accuracy: {accuracy_rf*100:.2f}%\")\n",
    "print(classification_report(y_test, y_pred_rf))"
   ]
  }
 ],
 "metadata": {
  "kernelspec": {
   "display_name": "Python 3 (ipykernel)",
   "language": "python",
   "name": "python3"
  },
  "language_info": {
   "codemirror_mode": {
    "name": "ipython",
    "version": 3
   },
   "file_extension": ".py",
   "mimetype": "text/x-python",
   "name": "python",
   "nbconvert_exporter": "python",
   "pygments_lexer": "ipython3",
   "version": "3.10.13"
  }
 },
 "nbformat": 4,
 "nbformat_minor": 5
}
