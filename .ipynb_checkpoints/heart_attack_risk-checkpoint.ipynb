{
 "cells": [
  {
   "cell_type": "code",
   "execution_count": 4,
   "id": "cd0d9e9a-09ef-47e7-b6db-1dd8ec2f537c",
   "metadata": {
    "tags": []
   },
   "outputs": [],
   "source": [
    "# Import necessary libraries\n",
    "import pandas as pd\n",
    "from sklearn.model_selection import train_test_split\n",
    "from sklearn.preprocessing import StandardScaler, OneHotEncoder\n",
    "from sklearn.compose import ColumnTransformer\n",
    "from sklearn.pipeline import Pipeline\n",
    "from sklearn.linear_model import LogisticRegression\n",
    "from sklearn.metrics import accuracy_score, classification_report"
   ]
  },
  {
   "cell_type": "code",
   "execution_count": 5,
   "id": "68412c75-d303-4405-823b-33d2a259639c",
   "metadata": {
    "tags": []
   },
   "outputs": [
    {
     "data": {
      "text/html": [
       "<div>\n",
       "<style scoped>\n",
       "    .dataframe tbody tr th:only-of-type {\n",
       "        vertical-align: middle;\n",
       "    }\n",
       "\n",
       "    .dataframe tbody tr th {\n",
       "        vertical-align: top;\n",
       "    }\n",
       "\n",
       "    .dataframe thead th {\n",
       "        text-align: right;\n",
       "    }\n",
       "</style>\n",
       "<table border=\"1\" class=\"dataframe\">\n",
       "  <thead>\n",
       "    <tr style=\"text-align: right;\">\n",
       "      <th></th>\n",
       "      <th>Patient ID</th>\n",
       "      <th>Age</th>\n",
       "      <th>Sex</th>\n",
       "      <th>Cholesterol</th>\n",
       "      <th>Blood Pressure</th>\n",
       "      <th>Heart Rate</th>\n",
       "      <th>Diabetes</th>\n",
       "      <th>Family History</th>\n",
       "      <th>Smoking</th>\n",
       "      <th>Obesity</th>\n",
       "      <th>...</th>\n",
       "      <th>Sedentary Hours Per Day</th>\n",
       "      <th>Income</th>\n",
       "      <th>BMI</th>\n",
       "      <th>Triglycerides</th>\n",
       "      <th>Physical Activity Days Per Week</th>\n",
       "      <th>Sleep Hours Per Day</th>\n",
       "      <th>Country</th>\n",
       "      <th>Continent</th>\n",
       "      <th>Hemisphere</th>\n",
       "      <th>Heart Attack Risk</th>\n",
       "    </tr>\n",
       "  </thead>\n",
       "  <tbody>\n",
       "    <tr>\n",
       "      <th>0</th>\n",
       "      <td>BMW7812</td>\n",
       "      <td>67</td>\n",
       "      <td>Male</td>\n",
       "      <td>208</td>\n",
       "      <td>158/88</td>\n",
       "      <td>72</td>\n",
       "      <td>0</td>\n",
       "      <td>0</td>\n",
       "      <td>1</td>\n",
       "      <td>0</td>\n",
       "      <td>...</td>\n",
       "      <td>6.615001</td>\n",
       "      <td>261404</td>\n",
       "      <td>31.251233</td>\n",
       "      <td>286</td>\n",
       "      <td>0</td>\n",
       "      <td>6</td>\n",
       "      <td>Argentina</td>\n",
       "      <td>South America</td>\n",
       "      <td>Southern Hemisphere</td>\n",
       "      <td>0</td>\n",
       "    </tr>\n",
       "    <tr>\n",
       "      <th>1</th>\n",
       "      <td>CZE1114</td>\n",
       "      <td>21</td>\n",
       "      <td>Male</td>\n",
       "      <td>389</td>\n",
       "      <td>165/93</td>\n",
       "      <td>98</td>\n",
       "      <td>1</td>\n",
       "      <td>1</td>\n",
       "      <td>1</td>\n",
       "      <td>1</td>\n",
       "      <td>...</td>\n",
       "      <td>4.963459</td>\n",
       "      <td>285768</td>\n",
       "      <td>27.194973</td>\n",
       "      <td>235</td>\n",
       "      <td>1</td>\n",
       "      <td>7</td>\n",
       "      <td>Canada</td>\n",
       "      <td>North America</td>\n",
       "      <td>Northern Hemisphere</td>\n",
       "      <td>0</td>\n",
       "    </tr>\n",
       "    <tr>\n",
       "      <th>2</th>\n",
       "      <td>BNI9906</td>\n",
       "      <td>21</td>\n",
       "      <td>Female</td>\n",
       "      <td>324</td>\n",
       "      <td>174/99</td>\n",
       "      <td>72</td>\n",
       "      <td>1</td>\n",
       "      <td>0</td>\n",
       "      <td>0</td>\n",
       "      <td>0</td>\n",
       "      <td>...</td>\n",
       "      <td>9.463426</td>\n",
       "      <td>235282</td>\n",
       "      <td>28.176571</td>\n",
       "      <td>587</td>\n",
       "      <td>4</td>\n",
       "      <td>4</td>\n",
       "      <td>France</td>\n",
       "      <td>Europe</td>\n",
       "      <td>Northern Hemisphere</td>\n",
       "      <td>0</td>\n",
       "    </tr>\n",
       "    <tr>\n",
       "      <th>3</th>\n",
       "      <td>JLN3497</td>\n",
       "      <td>84</td>\n",
       "      <td>Male</td>\n",
       "      <td>383</td>\n",
       "      <td>163/100</td>\n",
       "      <td>73</td>\n",
       "      <td>1</td>\n",
       "      <td>1</td>\n",
       "      <td>1</td>\n",
       "      <td>0</td>\n",
       "      <td>...</td>\n",
       "      <td>7.648981</td>\n",
       "      <td>125640</td>\n",
       "      <td>36.464704</td>\n",
       "      <td>378</td>\n",
       "      <td>3</td>\n",
       "      <td>4</td>\n",
       "      <td>Canada</td>\n",
       "      <td>North America</td>\n",
       "      <td>Northern Hemisphere</td>\n",
       "      <td>0</td>\n",
       "    </tr>\n",
       "    <tr>\n",
       "      <th>4</th>\n",
       "      <td>GFO8847</td>\n",
       "      <td>66</td>\n",
       "      <td>Male</td>\n",
       "      <td>318</td>\n",
       "      <td>91/88</td>\n",
       "      <td>93</td>\n",
       "      <td>1</td>\n",
       "      <td>1</td>\n",
       "      <td>1</td>\n",
       "      <td>1</td>\n",
       "      <td>...</td>\n",
       "      <td>1.514821</td>\n",
       "      <td>160555</td>\n",
       "      <td>21.809144</td>\n",
       "      <td>231</td>\n",
       "      <td>1</td>\n",
       "      <td>5</td>\n",
       "      <td>Thailand</td>\n",
       "      <td>Asia</td>\n",
       "      <td>Northern Hemisphere</td>\n",
       "      <td>0</td>\n",
       "    </tr>\n",
       "    <tr>\n",
       "      <th>...</th>\n",
       "      <td>...</td>\n",
       "      <td>...</td>\n",
       "      <td>...</td>\n",
       "      <td>...</td>\n",
       "      <td>...</td>\n",
       "      <td>...</td>\n",
       "      <td>...</td>\n",
       "      <td>...</td>\n",
       "      <td>...</td>\n",
       "      <td>...</td>\n",
       "      <td>...</td>\n",
       "      <td>...</td>\n",
       "      <td>...</td>\n",
       "      <td>...</td>\n",
       "      <td>...</td>\n",
       "      <td>...</td>\n",
       "      <td>...</td>\n",
       "      <td>...</td>\n",
       "      <td>...</td>\n",
       "      <td>...</td>\n",
       "      <td>...</td>\n",
       "    </tr>\n",
       "    <tr>\n",
       "      <th>8758</th>\n",
       "      <td>MSV9918</td>\n",
       "      <td>60</td>\n",
       "      <td>Male</td>\n",
       "      <td>121</td>\n",
       "      <td>94/76</td>\n",
       "      <td>61</td>\n",
       "      <td>1</td>\n",
       "      <td>1</td>\n",
       "      <td>1</td>\n",
       "      <td>0</td>\n",
       "      <td>...</td>\n",
       "      <td>10.806373</td>\n",
       "      <td>235420</td>\n",
       "      <td>19.655895</td>\n",
       "      <td>67</td>\n",
       "      <td>7</td>\n",
       "      <td>7</td>\n",
       "      <td>Thailand</td>\n",
       "      <td>Asia</td>\n",
       "      <td>Northern Hemisphere</td>\n",
       "      <td>0</td>\n",
       "    </tr>\n",
       "    <tr>\n",
       "      <th>8759</th>\n",
       "      <td>QSV6764</td>\n",
       "      <td>28</td>\n",
       "      <td>Female</td>\n",
       "      <td>120</td>\n",
       "      <td>157/102</td>\n",
       "      <td>73</td>\n",
       "      <td>1</td>\n",
       "      <td>0</td>\n",
       "      <td>0</td>\n",
       "      <td>1</td>\n",
       "      <td>...</td>\n",
       "      <td>3.833038</td>\n",
       "      <td>217881</td>\n",
       "      <td>23.993866</td>\n",
       "      <td>617</td>\n",
       "      <td>4</td>\n",
       "      <td>9</td>\n",
       "      <td>Canada</td>\n",
       "      <td>North America</td>\n",
       "      <td>Northern Hemisphere</td>\n",
       "      <td>0</td>\n",
       "    </tr>\n",
       "    <tr>\n",
       "      <th>8760</th>\n",
       "      <td>XKA5925</td>\n",
       "      <td>47</td>\n",
       "      <td>Male</td>\n",
       "      <td>250</td>\n",
       "      <td>161/75</td>\n",
       "      <td>105</td>\n",
       "      <td>0</td>\n",
       "      <td>1</td>\n",
       "      <td>1</td>\n",
       "      <td>1</td>\n",
       "      <td>...</td>\n",
       "      <td>2.375214</td>\n",
       "      <td>36998</td>\n",
       "      <td>35.406146</td>\n",
       "      <td>527</td>\n",
       "      <td>4</td>\n",
       "      <td>4</td>\n",
       "      <td>Brazil</td>\n",
       "      <td>South America</td>\n",
       "      <td>Southern Hemisphere</td>\n",
       "      <td>1</td>\n",
       "    </tr>\n",
       "    <tr>\n",
       "      <th>8761</th>\n",
       "      <td>EPE6801</td>\n",
       "      <td>36</td>\n",
       "      <td>Male</td>\n",
       "      <td>178</td>\n",
       "      <td>119/67</td>\n",
       "      <td>60</td>\n",
       "      <td>1</td>\n",
       "      <td>0</td>\n",
       "      <td>1</td>\n",
       "      <td>0</td>\n",
       "      <td>...</td>\n",
       "      <td>0.029104</td>\n",
       "      <td>209943</td>\n",
       "      <td>27.294020</td>\n",
       "      <td>114</td>\n",
       "      <td>2</td>\n",
       "      <td>8</td>\n",
       "      <td>Brazil</td>\n",
       "      <td>South America</td>\n",
       "      <td>Southern Hemisphere</td>\n",
       "      <td>0</td>\n",
       "    </tr>\n",
       "    <tr>\n",
       "      <th>8762</th>\n",
       "      <td>ZWN9666</td>\n",
       "      <td>25</td>\n",
       "      <td>Female</td>\n",
       "      <td>356</td>\n",
       "      <td>138/67</td>\n",
       "      <td>75</td>\n",
       "      <td>1</td>\n",
       "      <td>1</td>\n",
       "      <td>0</td>\n",
       "      <td>0</td>\n",
       "      <td>...</td>\n",
       "      <td>9.005234</td>\n",
       "      <td>247338</td>\n",
       "      <td>32.914151</td>\n",
       "      <td>180</td>\n",
       "      <td>7</td>\n",
       "      <td>4</td>\n",
       "      <td>United Kingdom</td>\n",
       "      <td>Europe</td>\n",
       "      <td>Northern Hemisphere</td>\n",
       "      <td>1</td>\n",
       "    </tr>\n",
       "  </tbody>\n",
       "</table>\n",
       "<p>8763 rows × 26 columns</p>\n",
       "</div>"
      ],
      "text/plain": [
       "     Patient ID  Age     Sex  Cholesterol Blood Pressure  Heart Rate  \\\n",
       "0       BMW7812   67    Male          208         158/88          72   \n",
       "1       CZE1114   21    Male          389         165/93          98   \n",
       "2       BNI9906   21  Female          324         174/99          72   \n",
       "3       JLN3497   84    Male          383        163/100          73   \n",
       "4       GFO8847   66    Male          318          91/88          93   \n",
       "...         ...  ...     ...          ...            ...         ...   \n",
       "8758    MSV9918   60    Male          121          94/76          61   \n",
       "8759    QSV6764   28  Female          120        157/102          73   \n",
       "8760    XKA5925   47    Male          250         161/75         105   \n",
       "8761    EPE6801   36    Male          178         119/67          60   \n",
       "8762    ZWN9666   25  Female          356         138/67          75   \n",
       "\n",
       "      Diabetes  Family History  Smoking  Obesity  ...  \\\n",
       "0            0               0        1        0  ...   \n",
       "1            1               1        1        1  ...   \n",
       "2            1               0        0        0  ...   \n",
       "3            1               1        1        0  ...   \n",
       "4            1               1        1        1  ...   \n",
       "...        ...             ...      ...      ...  ...   \n",
       "8758         1               1        1        0  ...   \n",
       "8759         1               0        0        1  ...   \n",
       "8760         0               1        1        1  ...   \n",
       "8761         1               0        1        0  ...   \n",
       "8762         1               1        0        0  ...   \n",
       "\n",
       "      Sedentary Hours Per Day  Income        BMI  Triglycerides  \\\n",
       "0                    6.615001  261404  31.251233            286   \n",
       "1                    4.963459  285768  27.194973            235   \n",
       "2                    9.463426  235282  28.176571            587   \n",
       "3                    7.648981  125640  36.464704            378   \n",
       "4                    1.514821  160555  21.809144            231   \n",
       "...                       ...     ...        ...            ...   \n",
       "8758                10.806373  235420  19.655895             67   \n",
       "8759                 3.833038  217881  23.993866            617   \n",
       "8760                 2.375214   36998  35.406146            527   \n",
       "8761                 0.029104  209943  27.294020            114   \n",
       "8762                 9.005234  247338  32.914151            180   \n",
       "\n",
       "      Physical Activity Days Per Week  Sleep Hours Per Day         Country  \\\n",
       "0                                   0                    6       Argentina   \n",
       "1                                   1                    7          Canada   \n",
       "2                                   4                    4          France   \n",
       "3                                   3                    4          Canada   \n",
       "4                                   1                    5        Thailand   \n",
       "...                               ...                  ...             ...   \n",
       "8758                                7                    7        Thailand   \n",
       "8759                                4                    9          Canada   \n",
       "8760                                4                    4          Brazil   \n",
       "8761                                2                    8          Brazil   \n",
       "8762                                7                    4  United Kingdom   \n",
       "\n",
       "          Continent           Hemisphere  Heart Attack Risk  \n",
       "0     South America  Southern Hemisphere                  0  \n",
       "1     North America  Northern Hemisphere                  0  \n",
       "2            Europe  Northern Hemisphere                  0  \n",
       "3     North America  Northern Hemisphere                  0  \n",
       "4              Asia  Northern Hemisphere                  0  \n",
       "...             ...                  ...                ...  \n",
       "8758           Asia  Northern Hemisphere                  0  \n",
       "8759  North America  Northern Hemisphere                  0  \n",
       "8760  South America  Southern Hemisphere                  1  \n",
       "8761  South America  Southern Hemisphere                  0  \n",
       "8762         Europe  Northern Hemisphere                  1  \n",
       "\n",
       "[8763 rows x 26 columns]"
      ]
     },
     "execution_count": 5,
     "metadata": {},
     "output_type": "execute_result"
    }
   ],
   "source": [
    "# Load the dataset\n",
    "heart_data_df = pd.read_csv('Resources/heart_attack_risk.csv')\n",
    "heart_data_df"
   ]
  },
  {
   "cell_type": "code",
   "execution_count": 6,
   "id": "94e7ebd9-993e-4cdf-9302-7a83615ef664",
   "metadata": {
    "tags": []
   },
   "outputs": [],
   "source": [
    "# Preprocess the data\n",
    "# Select features and target\n",
    "X = heart_data_df.drop(['Patient ID', 'Heart Attack Risk', 'Blood Pressure'], axis=1)\n",
    "y = heart_data_df['Heart Attack Risk']"
   ]
  },
  {
   "cell_type": "code",
   "execution_count": 7,
   "id": "c023877e-aa3e-4453-bcec-02a1b50f6e0a",
   "metadata": {
    "tags": []
   },
   "outputs": [
    {
     "data": {
      "text/plain": [
       "['Age',\n",
       " 'Cholesterol',\n",
       " 'Heart Rate',\n",
       " 'Diabetes',\n",
       " 'Family History',\n",
       " 'Smoking',\n",
       " 'Obesity',\n",
       " 'Alcohol Consumption',\n",
       " 'Exercise Hours Per Week',\n",
       " 'Previous Heart Problems',\n",
       " 'Medication Use',\n",
       " 'Stress Level',\n",
       " 'Sedentary Hours Per Day',\n",
       " 'Income',\n",
       " 'BMI',\n",
       " 'Triglycerides',\n",
       " 'Physical Activity Days Per Week',\n",
       " 'Sleep Hours Per Day']"
      ]
     },
     "execution_count": 7,
     "metadata": {},
     "output_type": "execute_result"
    }
   ],
   "source": [
    "# Handling categorical and numerical features\n",
    "categorical_features = X.select_dtypes(include=['object']).columns.tolist()\n",
    "numerical_features = X.select_dtypes(exclude=['object']).columns.tolist()\n",
    "\n",
    "categorical_features\n",
    "numerical_features"
   ]
  },
  {
   "cell_type": "code",
   "execution_count": 8,
   "id": "081e5b1b-41cf-4b83-b1b5-17346e6963a6",
   "metadata": {
    "tags": []
   },
   "outputs": [
    {
     "data": {
      "text/plain": [
       "ColumnTransformer(transformers=[('num', StandardScaler(),\n",
       "                                 ['Age', 'Cholesterol', 'Heart Rate',\n",
       "                                  'Diabetes', 'Family History', 'Smoking',\n",
       "                                  'Obesity', 'Alcohol Consumption',\n",
       "                                  'Exercise Hours Per Week',\n",
       "                                  'Previous Heart Problems', 'Medication Use',\n",
       "                                  'Stress Level', 'Sedentary Hours Per Day',\n",
       "                                  'Income', 'BMI', 'Triglycerides',\n",
       "                                  'Physical Activity Days Per Week',\n",
       "                                  'Sleep Hours Per Day']),\n",
       "                                ('cat', OneHotEncoder(),\n",
       "                                 ['Sex', 'Diet', 'Country', 'Continent',\n",
       "                                  'Hemisphere'])])"
      ]
     },
     "execution_count": 8,
     "metadata": {},
     "output_type": "execute_result"
    }
   ],
   "source": [
    "# Creating a preprocessing pipeline\n",
    "preprocessor = ColumnTransformer(\n",
    "    transformers=[\n",
    "        ('num', StandardScaler(), numerical_features),\n",
    "        ('cat', OneHotEncoder(), categorical_features)\n",
    "    ])\n",
    "\n",
    "preprocessor"
   ]
  },
  {
   "cell_type": "code",
   "execution_count": 9,
   "id": "f5befa2e-498c-4b8a-a418-8a56657a8db5",
   "metadata": {
    "tags": []
   },
   "outputs": [
    {
     "data": {
      "text/plain": [
       "Pipeline(steps=[('preprocessor',\n",
       "                 ColumnTransformer(transformers=[('num', StandardScaler(),\n",
       "                                                  ['Age', 'Cholesterol',\n",
       "                                                   'Heart Rate', 'Diabetes',\n",
       "                                                   'Family History', 'Smoking',\n",
       "                                                   'Obesity',\n",
       "                                                   'Alcohol Consumption',\n",
       "                                                   'Exercise Hours Per Week',\n",
       "                                                   'Previous Heart Problems',\n",
       "                                                   'Medication Use',\n",
       "                                                   'Stress Level',\n",
       "                                                   'Sedentary Hours Per Day',\n",
       "                                                   'Income', 'BMI',\n",
       "                                                   'Triglycerides',\n",
       "                                                   'Physical Activity Days Per '\n",
       "                                                   'Week',\n",
       "                                                   'Sleep Hours Per Day']),\n",
       "                                                 ('cat', OneHotEncoder(),\n",
       "                                                  ['Sex', 'Diet', 'Country',\n",
       "                                                   'Continent',\n",
       "                                                   'Hemisphere'])])),\n",
       "                ('classifier', LogisticRegression())])"
      ]
     },
     "execution_count": 9,
     "metadata": {},
     "output_type": "execute_result"
    }
   ],
   "source": [
    "# Define the model pipeline\n",
    "model_pipeline = Pipeline(steps=[\n",
    "    ('preprocessor', preprocessor),\n",
    "    ('classifier', LogisticRegression())\n",
    "])\n",
    "\n",
    "model_pipeline"
   ]
  },
  {
   "cell_type": "code",
   "execution_count": 10,
   "id": "46ceb7af-4f91-43d7-88b6-8dc5fa6d7713",
   "metadata": {
    "tags": []
   },
   "outputs": [],
   "source": [
    "# Split the dataset into training and testing sets\n",
    "X_train, X_test, y_train, y_test = train_test_split(X, y, test_size=0.2, random_state=42)"
   ]
  },
  {
   "cell_type": "code",
   "execution_count": 11,
   "id": "2d661b9e-c04c-4e7f-b2cb-1c286cd445a2",
   "metadata": {
    "tags": []
   },
   "outputs": [
    {
     "data": {
      "text/plain": [
       "Pipeline(steps=[('preprocessor',\n",
       "                 ColumnTransformer(transformers=[('num', StandardScaler(),\n",
       "                                                  ['Age', 'Cholesterol',\n",
       "                                                   'Heart Rate', 'Diabetes',\n",
       "                                                   'Family History', 'Smoking',\n",
       "                                                   'Obesity',\n",
       "                                                   'Alcohol Consumption',\n",
       "                                                   'Exercise Hours Per Week',\n",
       "                                                   'Previous Heart Problems',\n",
       "                                                   'Medication Use',\n",
       "                                                   'Stress Level',\n",
       "                                                   'Sedentary Hours Per Day',\n",
       "                                                   'Income', 'BMI',\n",
       "                                                   'Triglycerides',\n",
       "                                                   'Physical Activity Days Per '\n",
       "                                                   'Week',\n",
       "                                                   'Sleep Hours Per Day']),\n",
       "                                                 ('cat', OneHotEncoder(),\n",
       "                                                  ['Sex', 'Diet', 'Country',\n",
       "                                                   'Continent',\n",
       "                                                   'Hemisphere'])])),\n",
       "                ('classifier', LogisticRegression())])"
      ]
     },
     "execution_count": 11,
     "metadata": {},
     "output_type": "execute_result"
    }
   ],
   "source": [
    "# Train the model\n",
    "model_pipeline.fit(X_train, y_train)"
   ]
  },
  {
   "cell_type": "code",
   "execution_count": 12,
   "id": "d1178545-dc38-4c4c-a507-c543ed3404b2",
   "metadata": {
    "tags": []
   },
   "outputs": [],
   "source": [
    "# Predictions\n",
    "y_pred = model_pipeline.predict(X_test)"
   ]
  },
  {
   "cell_type": "code",
   "execution_count": 13,
   "id": "79e7c2ec-4ce1-4554-98c9-c5d016c3e90a",
   "metadata": {
    "tags": []
   },
   "outputs": [
    {
     "name": "stdout",
     "output_type": "stream",
     "text": [
      "Accuracy: 64.18%\n",
      "              precision    recall  f1-score   support\n",
      "\n",
      "           0       0.64      1.00      0.78      1125\n",
      "           1       0.00      0.00      0.00       628\n",
      "\n",
      "    accuracy                           0.64      1753\n",
      "   macro avg       0.32      0.50      0.39      1753\n",
      "weighted avg       0.41      0.64      0.50      1753\n",
      "\n"
     ]
    },
    {
     "name": "stderr",
     "output_type": "stream",
     "text": [
      "C:\\Users\\rwhit\\anaconda3\\envs\\dev\\lib\\site-packages\\sklearn\\metrics\\_classification.py:1318: UndefinedMetricWarning: Precision and F-score are ill-defined and being set to 0.0 in labels with no predicted samples. Use `zero_division` parameter to control this behavior.\n",
      "  _warn_prf(average, modifier, msg_start, len(result))\n",
      "C:\\Users\\rwhit\\anaconda3\\envs\\dev\\lib\\site-packages\\sklearn\\metrics\\_classification.py:1318: UndefinedMetricWarning: Precision and F-score are ill-defined and being set to 0.0 in labels with no predicted samples. Use `zero_division` parameter to control this behavior.\n",
      "  _warn_prf(average, modifier, msg_start, len(result))\n",
      "C:\\Users\\rwhit\\anaconda3\\envs\\dev\\lib\\site-packages\\sklearn\\metrics\\_classification.py:1318: UndefinedMetricWarning: Precision and F-score are ill-defined and being set to 0.0 in labels with no predicted samples. Use `zero_division` parameter to control this behavior.\n",
      "  _warn_prf(average, modifier, msg_start, len(result))\n"
     ]
    }
   ],
   "source": [
    "# Evaluate the model\n",
    "accuracy = accuracy_score(y_test, y_pred)\n",
    "print(f\"Accuracy: {accuracy*100:.2f}%\")\n",
    "print(classification_report(y_test, y_pred))"
   ]
  },
  {
   "cell_type": "markdown",
   "id": "696619a5-e0f0-49b0-8911-5f79e0a7f00b",
   "metadata": {},
   "source": [
    "## Results\n",
    "\n",
    "The logistic regression model achieved an accuracy of 64.18%. However, the classification report reveals significant performance issues, particularly with class `1` (indicating a heart attack risk), where both precision and recall are 0.00. This suggests the model is heavily biased towards predicting class `0` (no heart attack risk), likely due to class imbalance.\n",
    "\n",
    "## Suggestions for Improvement\n",
    "\n",
    "1. **Address Class Imbalance**: Apply techniques like SMOTE or adjust class weights in the logistic regression model. Consider evaluation metrics suited for imbalanced data, like AUC-ROC.\n",
    "\n",
    "2. **Feature Engineering**: Explore more complex feature engineering to uncover patterns missed by the current model.\n",
    "\n",
    "3. **Model Selection**: Consider using more complex models such as Random Forest, Gradient Boosting, or neural networks that might capture complex relationships in the data more effectively.\n",
    "\n",
    "4. **Hyperparameter Tuning**: Optimize the logistic regression model's performance through hyperparameter tuning.\n",
    "\n",
    "5. **Cross-Validation**: Employ cross-validation techniques for a robust evaluation of the model's performance across different subsets of the dataset.\n",
    "\n",
    "6. **Evaluation Metrics**: Focus on metrics like F1-score, Precision-Recall AUC, or confusion matrix for a nuanced understanding of model performance, especially in identifying the minority class."
   ]
  },
  {
   "cell_type": "code",
   "execution_count": 14,
   "id": "38aef1da-6cba-4ae3-b2e3-865971630033",
   "metadata": {
    "tags": []
   },
   "outputs": [],
   "source": [
    "from sklearn.ensemble import RandomForestClassifier"
   ]
  },
  {
   "cell_type": "code",
   "execution_count": 15,
   "id": "7c58dba1-cc29-4625-95d1-00cd8587911b",
   "metadata": {
    "tags": []
   },
   "outputs": [],
   "source": [
    "# Define the Random Forest model pipeline\n",
    "rf_pipeline = Pipeline(steps=[\n",
    "    ('preprocessor', preprocessor),\n",
    "    ('classifier', RandomForestClassifier(random_state=42))\n",
    "])"
   ]
  },
  {
   "cell_type": "code",
   "execution_count": 16,
   "id": "88182098-31c4-4aa3-9b3d-61724112c6b9",
   "metadata": {
    "tags": []
   },
   "outputs": [],
   "source": [
    "# Train the Random Forest model\n",
    "rf_pipeline.fit(X_train, y_train)\n",
    "\n",
    "# Predictions\n",
    "y_pred_rf = rf_pipeline.predict(X_test)"
   ]
  },
  {
   "cell_type": "code",
   "execution_count": 17,
   "id": "5c71984b-866b-445f-a070-7ef6194c0e22",
   "metadata": {
    "tags": []
   },
   "outputs": [
    {
     "name": "stdout",
     "output_type": "stream",
     "text": [
      "Random Forest Accuracy: 64.00%\n",
      "              precision    recall  f1-score   support\n",
      "\n",
      "           0       0.64      0.98      0.78      1125\n",
      "           1       0.45      0.02      0.04       628\n",
      "\n",
      "    accuracy                           0.64      1753\n",
      "   macro avg       0.55      0.50      0.41      1753\n",
      "weighted avg       0.57      0.64      0.51      1753\n",
      "\n"
     ]
    }
   ],
   "source": [
    "# Evaluate the Random Forest model\n",
    "accuracy_rf = accuracy_score(y_test, y_pred_rf)\n",
    "print(f\"Random Forest Accuracy: {accuracy_rf*100:.2f}%\")\n",
    "print(classification_report(y_test, y_pred_rf))"
   ]
  },
  {
   "cell_type": "markdown",
   "id": "f1927ecc-b2a3-46c3-8bd5-7aa6abe66b2b",
   "metadata": {},
   "source": [
    "## Results\n",
    "\n",
    "- The Random Forest model achieved an accuracy of 64.00%, which seem moderate but requires context (e.g., baseline accuracy, class distribution) to fully evaluate.\n",
    "\n",
    "- The classification report indicates a substantial imbalance in model performance across classes:\n",
    "    - High precision (0.64) and recall (0.98) for class `0`, suggesting the model is effective at identifying the negative class.\n",
    "    - Low precision (0.45) and especially low recall (0.02) for class `1`, indicating the model struggles significantly to correctly identify positive cases.\n",
    "- The macro-average and weighted-average scores further highlight the model's biased performance towards the majority class.\n",
    "\n",
    "## Suggestions for Improvement\n",
    "\n",
    "1. **Addressing Class Imbalance**: Implement strategies to handle class imbalance, such as oversampling the minority class, undersampling the majority class, or adjusting class weights in the Random Forest classifier.\n",
    "\n",
    "2. **Hyperparameter Tuning**: Utilize grid search or random search to fine-tune the hyperparameters of the Random Forest model (e.g., `n_estimators`, `max_depth`, `min_samples_split`) for potentially better performance.\n",
    "\n",
    "3. **Feature Engineering**: Investigate the dataset further to identify opportunities for feature engineering that could improve model performance, such as creating new features or selecting a subset of features.\n",
    "\n",
    "4. **Alternative Models**: Consider evaluating other machine learning models or ensemble methods that might perform better on this particular dataset, including gradient boosting machines (e.g., XGBoost, LightGBM) or neural networks if appropriate.\n",
    "\n",
    "5. **Evaluation Metrics**: Given the class imbalance, focus on evaluation metrics beyond accuracy that better capture the model's performance on the minority class, such as the F1-score, Precision-Recall AUC, or the confusion matrix.\n",
    "\n",
    "These steps aim to address the observed performance issues, especially the model's inability to effectively identify positive cases, and guide towards a more balanced and overall improved model performance."
   ]
  },
  {
   "cell_type": "code",
   "execution_count": 18,
   "id": "fef207af-33cd-43ce-a0f9-834bf6b82bad",
   "metadata": {
    "tags": []
   },
   "outputs": [],
   "source": [
    "from sklearn.ensemble import GradientBoostingClassifier"
   ]
  },
  {
   "cell_type": "code",
   "execution_count": 19,
   "id": "bf130aa6-6dcf-4b87-a0e9-11651692fd50",
   "metadata": {
    "tags": []
   },
   "outputs": [],
   "source": [
    "# Define the Gradient Boosting model pipeline\n",
    "gb_pipeline = Pipeline(steps=[\n",
    "    ('preprocessor', preprocessor),\n",
    "    ('classifier', GradientBoostingClassifier(random_state=42))\n",
    "])"
   ]
  },
  {
   "cell_type": "code",
   "execution_count": 20,
   "id": "5cc676a9-3c6d-4daf-a9ba-a981e35cf018",
   "metadata": {
    "tags": []
   },
   "outputs": [],
   "source": [
    "# Train the Gradient Boosting model\n",
    "gb_pipeline.fit(X_train, y_train)\n",
    "\n",
    "# Predictions\n",
    "y_pred_gb = gb_pipeline.predict(X_test)"
   ]
  },
  {
   "cell_type": "code",
   "execution_count": 21,
   "id": "48c94ec3-5384-4d25-bc0d-dd78dbb73a52",
   "metadata": {
    "tags": []
   },
   "outputs": [
    {
     "name": "stdout",
     "output_type": "stream",
     "text": [
      "Gradient Boosting Accuracy: 63.89%\n",
      "              precision    recall  f1-score   support\n",
      "\n",
      "           0       0.64      0.98      0.78      1125\n",
      "           1       0.42      0.02      0.04       628\n",
      "\n",
      "    accuracy                           0.64      1753\n",
      "   macro avg       0.53      0.50      0.41      1753\n",
      "weighted avg       0.56      0.64      0.51      1753\n",
      "\n"
     ]
    }
   ],
   "source": [
    "# Evaluate the Gradient Boosting model\n",
    "accuracy_gb = accuracy_score(y_test, y_pred_gb)\n",
    "print(f\"Gradient Boosting Accuracy: {accuracy_gb*100:.2f}%\")\n",
    "print(classification_report(y_test, y_pred_gb))"
   ]
  },
  {
   "cell_type": "markdown",
   "id": "057abf3a-a3ad-4e5d-a2e7-410d31945f38",
   "metadata": {},
   "source": [
    "## Results\n",
    "\n",
    "- The Gradient Boosting model achieved an accuracy of 63.89%, which seem reasonable but warrants deeper analysis.\n",
    "\n",
    "- The classification report reveals significant disparities in model performance across different classes:\n",
    "    - High precision (0.64) and recall (0.98) for class `0`, indicating effective identification of this class.\n",
    "    - Conversely, both precision (0.42) and recall (0.02) for class `1` are notably low, particularly the recall, suggesting the         model is largely ineffectual at identifying positive instances of this class.\n",
    "\n",
    "\n",
    "- These results imply a model heavily biased toward the majority class, leading to a high number of false negatives for class `1`.\n",
    "\n",
    "## Suggestions for Improvement\n",
    "\n",
    "1. **Class Imbalance Mitigation**: Implement strategies to better handle class imbalance, which could include techniques such as oversampling the minority class or adjusting the class weights parameter in the model.\n",
    "\n",
    "2. **Hyperparameter Optimization**: Utilize methods like grid search or random search to fine-tune the hyperparameters of the Gradient Boosting classifier. Parameters of interest could include `n_estimators`, `learning_rate`, `max_depth`, among others.\n",
    "\n",
    "3. **Feature Engineering**: Investigate the dataset for additional feature engineering opportunities. This could entail creating interaction terms, deriving new features, or applying more sophisticated encoding techniques for categorical variables.\n",
    "\n",
    "4. **Alternative Models and Ensembles**: Experiment with other models or advanced ensemble techniques, such as XGBoost or LightGBM, which might offer better performance or handle class imbalance more effectively.\n",
    "\n",
    "5. **Evaluation Metric Selection**: Given the class imbalance issue, prioritize metrics that offer more insight into model performance for minority classes, such as the F1-score, Precision-Recall curves, or even utilizing cost-sensitive learning approaches."
   ]
  },
  {
   "cell_type": "code",
   "execution_count": 22,
   "id": "933d70b7-82ef-4973-b3f0-7b8b2257a118",
   "metadata": {
    "tags": []
   },
   "outputs": [
    {
     "name": "stdout",
     "output_type": "stream",
     "text": [
      "Before oversampling: Counter({0: 5624, 1: 3139})\n",
      "After oversampling: Counter({0: 5624, 1: 5624})\n"
     ]
    }
   ],
   "source": [
    "from collections import Counter\n",
    "from imblearn.over_sampling import RandomOverSampler\n",
    "\n",
    "# Assuming you have your data in X and y arrays\n",
    "# X contains your features, and y contains your labels (0 or 1)\n",
    "\n",
    "# Check the distribution of classes before oversampling\n",
    "print(\"Before oversampling:\", Counter(y))\n",
    "\n",
    "# Define the oversampler with 'minority' sampling strategy\n",
    "oversampler = RandomOverSampler(sampling_strategy='minority', random_state=42)\n",
    "\n",
    "# Oversample the minority class (class 1)\n",
    "X_resampled, y_resampled = oversampler.fit_resample(X, y)\n",
    "\n",
    "# Check the distribution of classes after oversampling\n",
    "print(\"After oversampling:\", Counter(y_resampled))"
   ]
  },
  {
   "cell_type": "code",
   "execution_count": 23,
   "id": "057602f9-1158-4b38-887a-1ca4f41e5efd",
   "metadata": {
    "tags": []
   },
   "outputs": [],
   "source": [
    "# Split the dataset into training and testing sets\n",
    "X_train, X_test, y_train, y_test = train_test_split(X_resampled, y_resampled, test_size=0.2, random_state=42)"
   ]
  },
  {
   "cell_type": "code",
   "execution_count": 24,
   "id": "9beaaed9-fd21-4a2c-92ae-ebbdf98b0cc6",
   "metadata": {
    "tags": []
   },
   "outputs": [
    {
     "data": {
      "text/plain": [
       "Pipeline(steps=[('preprocessor',\n",
       "                 ColumnTransformer(transformers=[('num', StandardScaler(),\n",
       "                                                  ['Age', 'Cholesterol',\n",
       "                                                   'Heart Rate', 'Diabetes',\n",
       "                                                   'Family History', 'Smoking',\n",
       "                                                   'Obesity',\n",
       "                                                   'Alcohol Consumption',\n",
       "                                                   'Exercise Hours Per Week',\n",
       "                                                   'Previous Heart Problems',\n",
       "                                                   'Medication Use',\n",
       "                                                   'Stress Level',\n",
       "                                                   'Sedentary Hours Per Day',\n",
       "                                                   'Income', 'BMI',\n",
       "                                                   'Triglycerides',\n",
       "                                                   'Physical Activity Days Per '\n",
       "                                                   'Week',\n",
       "                                                   'Sleep Hours Per Day']),\n",
       "                                                 ('cat', OneHotEncoder(),\n",
       "                                                  ['Sex', 'Diet', 'Country',\n",
       "                                                   'Continent',\n",
       "                                                   'Hemisphere'])])),\n",
       "                ('classifier', LogisticRegression())])"
      ]
     },
     "execution_count": 24,
     "metadata": {},
     "output_type": "execute_result"
    }
   ],
   "source": [
    "# Train the model\n",
    "model_pipeline.fit(X_train, y_train)"
   ]
  },
  {
   "cell_type": "code",
   "execution_count": 25,
   "id": "8e10f6d5-664a-4c68-853a-c2f8e76f2f9a",
   "metadata": {
    "tags": []
   },
   "outputs": [],
   "source": [
    "# Predictions\n",
    "y_pred = model_pipeline.predict(X_test)"
   ]
  },
  {
   "cell_type": "code",
   "execution_count": 26,
   "id": "2b123226-1b79-4e77-8495-e03fc65fb42c",
   "metadata": {
    "tags": []
   },
   "outputs": [
    {
     "name": "stdout",
     "output_type": "stream",
     "text": [
      "Accuracy: 49.96%\n",
      "              precision    recall  f1-score   support\n",
      "\n",
      "           0       0.50      0.51      0.50      1120\n",
      "           1       0.50      0.49      0.49      1130\n",
      "\n",
      "    accuracy                           0.50      2250\n",
      "   macro avg       0.50      0.50      0.50      2250\n",
      "weighted avg       0.50      0.50      0.50      2250\n",
      "\n"
     ]
    }
   ],
   "source": [
    "# Evaluate the model\n",
    "accuracy = accuracy_score(y_test, y_pred)\n",
    "print(f\"Accuracy: {accuracy*100:.2f}%\")\n",
    "print(classification_report(y_test, y_pred))"
   ]
  },
  {
   "cell_type": "code",
   "execution_count": 27,
   "id": "e5ccef98-66b9-4ffa-8cce-030cbd621fab",
   "metadata": {
    "tags": []
   },
   "outputs": [],
   "source": [
    "from sklearn.ensemble import RandomForestClassifier"
   ]
  },
  {
   "cell_type": "code",
   "execution_count": 28,
   "id": "18c5d348-c62a-424d-b8da-8a12e83b4604",
   "metadata": {
    "tags": []
   },
   "outputs": [],
   "source": [
    "# Define the Random Forest model pipeline\n",
    "rf_pipeline = Pipeline(steps=[\n",
    "    ('preprocessor', preprocessor),\n",
    "    ('classifier', RandomForestClassifier(random_state=42))\n",
    "])"
   ]
  },
  {
   "cell_type": "code",
   "execution_count": 29,
   "id": "aa0cc187-1f19-44c5-aea8-5cccc76bf566",
   "metadata": {
    "tags": []
   },
   "outputs": [],
   "source": [
    "# Train the Random Forest model\n",
    "pipeline = rf_pipeline.fit(X_train, y_train)\n",
    "\n",
    "# Predictions\n",
    "y_pred_rf = rf_pipeline.predict(X_test)"
   ]
  },
  {
   "cell_type": "code",
   "execution_count": 30,
   "id": "1cf73206-5960-4718-aa9d-30b4c426067a",
   "metadata": {
    "tags": []
   },
   "outputs": [
    {
     "name": "stdout",
     "output_type": "stream",
     "text": [
      "Random Forest Accuracy: 79.16%\n",
      "              precision    recall  f1-score   support\n",
      "\n",
      "           0       0.74      0.89      0.81      1120\n",
      "           1       0.86      0.69      0.77      1130\n",
      "\n",
      "    accuracy                           0.79      2250\n",
      "   macro avg       0.80      0.79      0.79      2250\n",
      "weighted avg       0.80      0.79      0.79      2250\n",
      "\n"
     ]
    }
   ],
   "source": [
    "# Evaluate the Random Forest model\n",
    "accuracy_rf = accuracy_score(y_test, y_pred_rf)\n",
    "print(f\"Random Forest Accuracy: {accuracy_rf*100:.2f}%\")\n",
    "print(classification_report(y_test, y_pred_rf))"
   ]
  },
  {
   "cell_type": "code",
   "execution_count": null,
   "id": "7d39783f-843f-4c3c-995e-2b5c36e2cf7b",
   "metadata": {},
   "outputs": [],
   "source": []
  }
 ],
 "metadata": {
  "kernelspec": {
   "display_name": "Python 3 (ipykernel)",
   "language": "python",
   "name": "python3"
  },
  "language_info": {
   "codemirror_mode": {
    "name": "ipython",
    "version": 3
   },
   "file_extension": ".py",
   "mimetype": "text/x-python",
   "name": "python",
   "nbconvert_exporter": "python",
   "pygments_lexer": "ipython3",
   "version": "3.7.13"
  }
 },
 "nbformat": 4,
 "nbformat_minor": 5
}
