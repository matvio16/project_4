{
 "cells": [
  {
   "cell_type": "code",
   "execution_count": null,
   "id": "cd0d9e9a-09ef-47e7-b6db-1dd8ec2f537c",
   "metadata": {},
   "outputs": [],
   "source": [
    "import pandas as pd\n",
    "\n",
    "# Load the data\n",
    "heart_data = pd.read_csv('https://github.com/matvio16/project_4/tree/lisa/Resources/heart_attack_risk.csv')\n",
    "\n",
    "# For each risk factor, calculate the percentage of people at risk\n",
    "risk_factor = 'Cholesterol'\n",
    "risk_data = heart_data.groupby([risk_factor, 'Heart Attack Risk']).size().unstack(fill_value=0)\n",
    "\n",
    "# Calculate the percentage of people at risk for each level of Cholesterol\n",
    "risk_data['Percentage At Risk'] = (risk_data[1] / (risk_data[0] + risk_data[1])) * 100\n",
    "\n",
    "print(risk_data['Percentage At Risk'])\n"
   ]
  }
 ],
 "metadata": {
  "kernelspec": {
   "display_name": "Python 3 (ipykernel)",
   "language": "python",
   "name": "python3"
  },
  "language_info": {
   "codemirror_mode": {
    "name": "ipython",
    "version": 3
   },
   "file_extension": ".py",
   "mimetype": "text/x-python",
   "name": "python",
   "nbconvert_exporter": "python",
   "pygments_lexer": "ipython3",
   "version": "3.7.13"
  }
 },
 "nbformat": 4,
 "nbformat_minor": 5
}
